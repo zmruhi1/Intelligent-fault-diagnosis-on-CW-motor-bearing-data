{
  "cells": [
    {
      "cell_type": "markdown",
      "metadata": {},
      "source": [
        "This was originally coded in MATLAB. Here I have included the python version of preprocessing the signals and creating hybrid signals."
      ]
    },
    {
      "cell_type": "code",
      "execution_count": null,
      "metadata": {
        "id": "C_TEYYEa2Aq9"
      },
      "outputs": [],
      "source": [
        "import numpy as np\n",
        "from scipy.io import loadmat\n",
        "import matplotlib.pyplot as plt\n",
        "from sklearn.preprocessing import LabelBinarizer"
      ]
    },
    {
      "cell_type": "code",
      "execution_count": null,
      "metadata": {
        "id": "0tO59lVtlzWy"
      },
      "outputs": [],
      "source": [
        "import os \n",
        "source = 'C:/Users/Lenovo/Desktop/Fault diagnosis/48k_EMD_VMD_IMF_P/ball_IMF/Dimension/emd'\n",
        "source_list=os.listdir(source)\n",
        "for f in source_list:\n",
        "  f_name=os.path.join(source, f)\n",
        "  annots = loadmat(f_name) \n",
        "  print(f)"
      ]
    },
    {
      "cell_type": "code",
      "execution_count": null,
      "metadata": {
        "id": "EC-QU65X2ArA",
        "outputId": "faae451d-98d3-4b2b-aa82-d46060fe96c4"
      },
      "outputs": [
        {
          "name": "stdout",
          "output_type": "stream",
          "text": [
            "B_X122_EMD_IMF_D.mat\n",
            "(121, 32, 32, 1)\n",
            "B_X123_EMD_IMF_D.mat\n",
            "(242, 32, 32, 1)\n",
            "B_X124_EMD_IMF_D.mat\n",
            "(363, 32, 32, 1)\n",
            "B_X125_EMD_IMF_D.mat\n",
            "(484, 32, 32, 1)\n",
            "B_X189_EMD_IMF_D.mat\n",
            "(605, 32, 32, 1)\n",
            "B_X190_EMD_IMF_D.mat\n",
            "(726, 32, 32, 1)\n",
            "B_X191_EMD_IMF_D.mat\n",
            "(847, 32, 32, 1)\n",
            "B_X192_EMD_IMF_D.mat\n",
            "(968, 32, 32, 1)\n",
            "B_X226_EMD_IMF_D.mat\n",
            "(1089, 32, 32, 1)\n",
            "B_X227_EMD_IMF_D.mat\n",
            "(1210, 32, 32, 1)\n",
            "B_X228_EMD_IMF_D.mat\n",
            "(1331, 32, 32, 1)\n",
            "B_X229_EMD_IMF_D.mat\n",
            "(1452, 32, 32, 1)\n"
          ]
        },
        {
          "data": {
            "text/plain": [
              "(1452, 1)"
            ]
          },
          "execution_count": 3,
          "metadata": {
            "tags": []
          },
          "output_type": "execute_result"
        }
      ],
      "source": [
        "for f in source_list:\n",
        "  f_name=os.path.join(source, f)\n",
        "  annots = loadmat(f_name) \n",
        "  print(f)\n",
        "  set1= annots[f[2:7]+'DE_time_'+'IMF1_2D']\n",
        "  set1= np.expand_dims(set1, axis=-1)\n",
        "  set2= annots[f[2:7]+'DE_time_'+'IMF2_2D']\n",
        "  set2= np.expand_dims(set2, axis=-1)\n",
        "  set3= annots[f[2:7]+'DE_time_'+'IMF3_2D']\n",
        "  set3= np.expand_dims(set3, axis=-1)\n",
        "\n",
        "\n",
        "  set1 = np.add(set1, set2, set3)\n",
        "  if f[2:7]=='X122_':\n",
        "    ball = set1\n",
        "  else: \n",
        "    set1 = np.concatenate((ball,set1))\n",
        "    ball=set1\n",
        "  print(ball.shape)\n",
        "\n",
        "b_label = np.ones((ball.shape[0], 1))*1\n",
        "b_label.shape"
      ]
    },
    {
      "cell_type": "code",
      "execution_count": null,
      "metadata": {
        "id": "FfdGLD9g2ArB",
        "outputId": "201da257-949f-40d6-c5b5-6a00ab3339a8"
      },
      "outputs": [
        {
          "name": "stdout",
          "output_type": "stream",
          "text": [
            "B_X122_VMD_IMF_D.mat\n",
            "B_X123_VMD_IMF_D.mat\n",
            "B_X124_VMD_IMF_D.mat\n",
            "B_X125_VMD_IMF_D.mat\n",
            "B_X189_VMD_IMF_D.mat\n",
            "B_X190_VMD_IMF_D.mat\n",
            "B_X191_VMD_IMF_D.mat\n",
            "B_X192_VMD_IMF_D.mat\n",
            "B_X226_VMD_IMF_D.mat\n",
            "B_X227_VMD_IMF_D.mat\n",
            "B_X228_VMD_IMF_D.mat\n",
            "B_X229_VMD_IMF_D.mat\n"
          ]
        }
      ],
      "source": [
        "import os \n",
        "source = 'C:/Users/Lenovo/Desktop/Fault diagnosis/48k_EMD_VMD_IMF_P/ball_IMF/Dimension/vmd'\n",
        "source_list=os.listdir(source)\n",
        "for f in source_list:\n",
        "  f_name=os.path.join(source, f)\n",
        "  annots = loadmat(f_name) \n",
        "  print(f)"
      ]
    },
    {
      "cell_type": "code",
      "execution_count": null,
      "metadata": {
        "id": "9hivkxmU2ArB",
        "outputId": "75c1c919-e036-4861-b727-ddb92751006b"
      },
      "outputs": [
        {
          "name": "stdout",
          "output_type": "stream",
          "text": [
            "B_X122_VMD_IMF_D.mat\n",
            "(1452, 32, 32, 1)\n",
            "B_X123_VMD_IMF_D.mat\n",
            "(1452, 32, 32, 1)\n",
            "B_X124_VMD_IMF_D.mat\n",
            "(1452, 32, 32, 1)\n",
            "B_X125_VMD_IMF_D.mat\n",
            "(1452, 32, 32, 1)\n",
            "B_X189_VMD_IMF_D.mat\n",
            "(1452, 32, 32, 1)\n",
            "B_X190_VMD_IMF_D.mat\n",
            "(1452, 32, 32, 1)\n",
            "B_X191_VMD_IMF_D.mat\n",
            "(1452, 32, 32, 1)\n",
            "B_X192_VMD_IMF_D.mat\n",
            "(1452, 32, 32, 1)\n",
            "B_X226_VMD_IMF_D.mat\n",
            "(1452, 32, 32, 1)\n",
            "B_X227_VMD_IMF_D.mat\n",
            "(1452, 32, 32, 1)\n",
            "B_X228_VMD_IMF_D.mat\n",
            "(1452, 32, 32, 1)\n",
            "B_X229_VMD_IMF_D.mat\n",
            "(1452, 32, 32, 1)\n"
          ]
        }
      ],
      "source": [
        "for f in source_list:\n",
        "  f_name=os.path.join(source, f)\n",
        "  annots = loadmat(f_name) \n",
        "  print(f)\n",
        "  set1= annots[f[2:7]+'DE_time_'+'IMF1_2D']\n",
        "  set1= np.expand_dims(set1, axis=-1)\n",
        "  set2= annots[f[2:7]+'DE_time_'+'IMF2_2D']\n",
        "  set2= np.expand_dims(set2, axis=-1)\n",
        "  set3= annots[f[2:7]+'DE_time_'+'IMF3_2D']\n",
        "  set3= np.expand_dims(set3, axis=-1)\n",
        "\n",
        "\n",
        "  set1 = np.add(set1, set2, set3)\n",
        "  if f[2:7]=='X122_':\n",
        "    ball2 = set1\n",
        "  else: \n",
        "    set1 = np.concatenate((ball2,set1))\n",
        "    ball2=set1\n",
        "  print(ball.shape)\n"
      ]
    },
    {
      "cell_type": "code",
      "execution_count": null,
      "metadata": {
        "id": "KDZjK6KF2ArC",
        "outputId": "9f38150b-84a0-4d68-c897-ed9f22005533"
      },
      "outputs": [
        {
          "data": {
            "text/plain": [
              "(1452, 32, 32, 1)"
            ]
          },
          "execution_count": 8,
          "metadata": {
            "tags": []
          },
          "output_type": "execute_result"
        }
      ],
      "source": [
        "h_ball = np.add(ball, ball2)\n",
        "h_ball.shape"
      ]
    },
    {
      "cell_type": "code",
      "execution_count": null,
      "metadata": {
        "id": "JAKMLD1X2ArC",
        "outputId": "bf647b4c-2e38-4334-8f5f-3ad20f1b72ca"
      },
      "outputs": [
        {
          "name": "stdout",
          "output_type": "stream",
          "text": [
            "I_X109_VMD_IMF_D.mat\n",
            "I_X110_VMD_IMF_D.mat\n",
            "I_X111_VMD_IMF_D.mat\n",
            "I_X112_VMD_IMF_D.mat\n",
            "I_X175_VMD_IMF_D.mat\n",
            "I_X176_VMD_IMF_D.mat\n",
            "I_X177_VMD_IMF_D.mat\n",
            "I_X213_VMD_IMF_D.mat\n",
            "I_X214_VMD_IMF_D.mat\n",
            "I_X215_VMD_IMF_D.mat\n",
            "I_X217_VMD_IMF_D.mat\n"
          ]
        }
      ],
      "source": [
        "import os \n",
        "source = 'C:/Users/Lenovo/Desktop/Fault diagnosis/48k_EMD_VMD_IMF_P/inner_IMF/Dimension/vmd'\n",
        "source_list=os.listdir(source)\n",
        "for f in source_list:\n",
        "  f_name=os.path.join(source, f)\n",
        "  annots = loadmat(f_name) \n",
        "  print(f)"
      ]
    },
    {
      "cell_type": "code",
      "execution_count": null,
      "metadata": {
        "id": "F4ym-ogh2ArD",
        "outputId": "157bd2c8-fd65-48cb-e8a0-a5521d6fd739"
      },
      "outputs": [
        {
          "name": "stdout",
          "output_type": "stream",
          "text": [
            "I_X109_VMD_IMF_D.mat\n",
            "(121, 32, 32, 1)\n",
            "I_X110_VMD_IMF_D.mat\n",
            "(242, 32, 32, 1)\n",
            "I_X111_VMD_IMF_D.mat\n",
            "(363, 32, 32, 1)\n",
            "I_X112_VMD_IMF_D.mat\n",
            "(484, 32, 32, 1)\n",
            "I_X175_VMD_IMF_D.mat\n",
            "(605, 32, 32, 1)\n",
            "I_X176_VMD_IMF_D.mat\n",
            "(726, 32, 32, 1)\n",
            "I_X177_VMD_IMF_D.mat\n",
            "(847, 32, 32, 1)\n",
            "I_X213_VMD_IMF_D.mat\n",
            "(968, 32, 32, 1)\n",
            "I_X214_VMD_IMF_D.mat\n",
            "(1089, 32, 32, 1)\n",
            "I_X215_VMD_IMF_D.mat\n",
            "(1210, 32, 32, 1)\n",
            "I_X217_VMD_IMF_D.mat\n",
            "(1331, 32, 32, 1)\n"
          ]
        },
        {
          "data": {
            "text/plain": [
              "(1331, 1)"
            ]
          },
          "execution_count": 13,
          "metadata": {
            "tags": []
          },
          "output_type": "execute_result"
        }
      ],
      "source": [
        "for f in source_list:\n",
        "  f_name=os.path.join(source, f)\n",
        "  annots = loadmat(f_name) \n",
        "  print(f)\n",
        "  set1= annots[f[2:7]+'DE_time_'+'IMF1_2D']\n",
        "  set1= np.expand_dims(set1, axis=-1)\n",
        "  set2= annots[f[2:7]+'DE_time_'+'IMF2_2D']\n",
        "  set2= np.expand_dims(set2, axis=-1)\n",
        "  set3= annots[f[2:7]+'DE_time_'+'IMF3_2D']\n",
        "  set3= np.expand_dims(set3, axis=-1)\n",
        " \n",
        "\n",
        "\n",
        "  set1 = np.add(set1, set2, set3)\n",
        "\n",
        "  if f[2:7]=='X109_':\n",
        "    inner2 = set1\n",
        "  else: \n",
        "    set1 = np.concatenate((inner2,set1))\n",
        "    inner2=set1\n",
        "  print(inner2.shape)\n",
        "\n",
        "i_label = np.ones((inner2.shape[0], 1))*2\n",
        "i_label.shape"
      ]
    },
    {
      "cell_type": "code",
      "execution_count": null,
      "metadata": {
        "id": "f7roar0v2ArD",
        "outputId": "e6774169-48d7-44e3-8702-20aed2797433"
      },
      "outputs": [
        {
          "data": {
            "text/plain": [
              "(1331, 32, 32, 1)"
            ]
          },
          "execution_count": 15,
          "metadata": {
            "tags": []
          },
          "output_type": "execute_result"
        }
      ],
      "source": [
        "h_inner = np.add(inner, inner2)\n",
        "h_inner.shape"
      ]
    },
    {
      "cell_type": "code",
      "execution_count": null,
      "metadata": {
        "id": "xiPdRZOn2ArE",
        "outputId": "d0b0cde8-fe7f-430b-a2d6-02ae24de5baf"
      },
      "outputs": [
        {
          "name": "stdout",
          "output_type": "stream",
          "text": [
            "N_X097_EMD_IMF_D.mat\n",
            "N_X098_EMD_IMF_D.mat\n",
            "N_X099_EMD_IMF_D.mat\n",
            "N_X100_EMD_IMF_D.mat\n"
          ]
        }
      ],
      "source": [
        "import os \n",
        "source = 'C:/Users/Lenovo/Desktop/Fault diagnosis/48k_EMD_VMD_IMF_P/normal_IMF/Dimension/emd'\n",
        "source_list=os.listdir(source)\n",
        "for f in source_list:\n",
        "  f_name=os.path.join(source, f)\n",
        "  annots = loadmat(f_name) \n",
        "  print(f)"
      ]
    },
    {
      "cell_type": "code",
      "execution_count": null,
      "metadata": {
        "id": "YeM-wlxL2ArE",
        "outputId": "a585e5eb-3242-4898-9831-fef76960e803"
      },
      "outputs": [
        {
          "name": "stdout",
          "output_type": "stream",
          "text": [
            "N_X097_EMD_IMF_D.mat\n",
            "(121, 32, 32, 1)\n",
            "N_X098_EMD_IMF_D.mat\n",
            "(242, 32, 32, 1)\n",
            "N_X099_EMD_IMF_D.mat\n",
            "(363, 32, 32, 1)\n",
            "N_X100_EMD_IMF_D.mat\n",
            "(484, 32, 32, 1)\n"
          ]
        },
        {
          "data": {
            "text/plain": [
              "(484, 1)"
            ]
          },
          "execution_count": 25,
          "metadata": {
            "tags": []
          },
          "output_type": "execute_result"
        }
      ],
      "source": [
        "for f in source_list:\n",
        "  f_name=os.path.join(source, f)\n",
        "  annots = loadmat(f_name) \n",
        "  print(f)\n",
        "  set1= annots[f[2:7]+'DE_time_'+'IMF1_2D']\n",
        "  set1= np.expand_dims(set1, axis=-1)\n",
        "  set2= annots[f[2:7]+'DE_time_'+'IMF2_2D']\n",
        "  set2= np.expand_dims(set2, axis=-1)\n",
        "  set3= annots[f[2:7]+'DE_time_'+'IMF3_2D']\n",
        "  set3= np.expand_dims(set3, axis=-1)\n",
        "\n",
        "\n",
        "\n",
        "  set1 = np.add(set1, set2, set3)\n",
        "\n",
        "  if f[2:7]=='X097_':\n",
        "    normal = set1\n",
        "  else: \n",
        "    set1 = np.concatenate((normal,set1))\n",
        "    normal=set1\n",
        "  print(normal.shape)\n",
        "\n",
        "n_label = np.ones((normal.shape[0], 1))*0\n",
        "n_label.shape"
      ]
    },
    {
      "cell_type": "code",
      "execution_count": null,
      "metadata": {
        "id": "O_6jdBIc2ArE",
        "outputId": "ad998eb1-5451-4db1-cd2f-cfd1805d7ac8"
      },
      "outputs": [
        {
          "data": {
            "text/plain": [
              "(484, 32, 32, 1)"
            ]
          },
          "execution_count": 26,
          "metadata": {
            "tags": []
          },
          "output_type": "execute_result"
        }
      ],
      "source": [
        "h_normal = np.add(normal,normal2)\n",
        "h_normal.shape"
      ]
    },
    {
      "cell_type": "code",
      "execution_count": null,
      "metadata": {
        "id": "dztjv_Ec2ArF",
        "outputId": "40e34e38-4b52-4431-f220-3159ea532866"
      },
      "outputs": [
        {
          "name": "stdout",
          "output_type": "stream",
          "text": [
            "O_X135_VMD_IMF_D.mat\n",
            "O_X136_VMD_IMF_D.mat\n",
            "O_X137_VMD_IMF_D.mat\n",
            "O_X138_VMD_IMF_D.mat\n",
            "O_X201_VMD_IMF_D.mat\n",
            "O_X202_VMD_IMF_D.mat\n",
            "O_X203_VMD_IMF_D.mat\n",
            "O_X204_VMD_IMF_D.mat\n",
            "O_X238_VMD_IMF_D.mat\n",
            "O_X239_VMD_IMF_D.mat\n",
            "O_X240_VMD_IMF_D.mat\n",
            "O_X241_VMD_IMF_D.mat\n"
          ]
        }
      ],
      "source": [
        "import os \n",
        "source = 'C:/Users/Lenovo/Desktop/Fault diagnosis/48k_EMD_VMD_IMF_P/outer_IMF/Dimension/vmd'\n",
        "source_list=os.listdir(source)\n",
        "for f in source_list:\n",
        "  f_name=os.path.join(source, f)\n",
        "  annots = loadmat(f_name) \n",
        "  print(f)"
      ]
    },
    {
      "cell_type": "code",
      "execution_count": null,
      "metadata": {
        "id": "p2CSbQnm2ArF",
        "outputId": "1ce8f6ac-a7d7-4fb7-fe55-41966d09f431"
      },
      "outputs": [
        {
          "name": "stdout",
          "output_type": "stream",
          "text": [
            "O_X135_VMD_IMF_D.mat\n",
            "(121, 32, 32, 1)\n",
            "O_X136_VMD_IMF_D.mat\n",
            "(242, 32, 32, 1)\n",
            "O_X137_VMD_IMF_D.mat\n",
            "(363, 32, 32, 1)\n",
            "O_X138_VMD_IMF_D.mat\n",
            "(484, 32, 32, 1)\n",
            "O_X201_VMD_IMF_D.mat\n",
            "(605, 32, 32, 1)\n",
            "O_X202_VMD_IMF_D.mat\n",
            "(726, 32, 32, 1)\n",
            "O_X203_VMD_IMF_D.mat\n",
            "(847, 32, 32, 1)\n",
            "O_X204_VMD_IMF_D.mat\n",
            "(968, 32, 32, 1)\n",
            "O_X238_VMD_IMF_D.mat\n",
            "(1089, 32, 32, 1)\n",
            "O_X239_VMD_IMF_D.mat\n",
            "(1210, 32, 32, 1)\n",
            "O_X240_VMD_IMF_D.mat\n",
            "(1331, 32, 32, 1)\n",
            "O_X241_VMD_IMF_D.mat\n",
            "(1452, 32, 32, 1)\n"
          ]
        },
        {
          "data": {
            "text/plain": [
              "(1452, 1)"
            ]
          },
          "execution_count": 31,
          "metadata": {
            "tags": []
          },
          "output_type": "execute_result"
        }
      ],
      "source": [
        "for f in source_list:\n",
        "  f_name=os.path.join(source, f)\n",
        "  annots = loadmat(f_name) \n",
        "  print(f)\n",
        "  set1= annots[f[2:7]+'DE_time_'+'IMF1_2D']\n",
        "  set1= np.expand_dims(set1, axis=-1)\n",
        "  set2= annots[f[2:7]+'DE_time_'+'IMF2_2D']\n",
        "  set2= np.expand_dims(set2, axis=-1)\n",
        "  set3= annots[f[2:7]+'DE_time_'+'IMF3_2D']\n",
        "  set3= np.expand_dims(set3, axis=-1)\n",
        "\n",
        "\n",
        "  set1 = np.add(set1, set2, set3)\n",
        "\n",
        "  if f[2:7]=='X135_':\n",
        "    outer2 = set1\n",
        "  else: \n",
        "    set1 = np.concatenate((outer2,set1))\n",
        "    outer2=set1\n",
        "  print(outer2.shape)\n",
        "\n",
        "o_label = np.ones((outer.shape[0], 1))*3\n",
        "o_label.shape"
      ]
    },
    {
      "cell_type": "code",
      "execution_count": null,
      "metadata": {
        "id": "0k53Om8w2ArF",
        "outputId": "d5651bb6-eca0-404b-dd9a-36b48bdacb72"
      },
      "outputs": [
        {
          "data": {
            "text/plain": [
              "(1452, 32, 32, 1)"
            ]
          },
          "execution_count": 37,
          "metadata": {
            "tags": []
          },
          "output_type": "execute_result"
        }
      ],
      "source": [
        "h_outer = np.add(outer,outer2)\n",
        "h_outer.shape"
      ]
    },
    {
      "cell_type": "code",
      "execution_count": null,
      "metadata": {
        "id": "uFfvla9n2ArG",
        "outputId": "0f041dff-3663-4643-d826-53f63c9e8d67"
      },
      "outputs": [
        {
          "name": "stdout",
          "output_type": "stream",
          "text": [
            "(1452, 32, 32, 1)\n",
            "(1331, 32, 32, 1)\n",
            "(484, 32, 32, 1)\n",
            "(1452, 32, 32, 1)\n"
          ]
        }
      ],
      "source": [
        "print(h_ball.shape)\n",
        "print(h_inner.shape)\n",
        "print(h_normal.shape)\n",
        "print(h_outer.shape)"
      ]
    }
  ],
  "metadata": {
    "colab": {
      "name": "Data_processing.ipynb",
      "provenance": []
    },
    "kernelspec": {
      "display_name": "Python 3",
      "language": "python",
      "name": "python3"
    },
    "language_info": {
      "codemirror_mode": {
        "name": "ipython",
        "version": 3
      },
      "file_extension": ".py",
      "mimetype": "text/x-python",
      "name": "python",
      "nbconvert_exporter": "python",
      "pygments_lexer": "ipython3",
      "version": "3.7.3"
    }
  },
  "nbformat": 4,
  "nbformat_minor": 0
}
