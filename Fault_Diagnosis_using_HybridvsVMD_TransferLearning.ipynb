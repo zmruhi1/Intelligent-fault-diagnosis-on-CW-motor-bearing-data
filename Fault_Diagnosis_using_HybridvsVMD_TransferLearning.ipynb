{
  "nbformat": 4,
  "nbformat_minor": 0,
  "metadata": {
    "accelerator": "GPU",
    "colab": {
      "name": "Fault_Diagnosis_using_HybridvsVMD_TransferLearning.ipynb",
      "provenance": [],
      "collapsed_sections": []
    },
    "kernelspec": {
      "display_name": "Python 3",
      "name": "python3"
    }
  },
  "cells": [
    {
      "cell_type": "code",
      "metadata": {
        "colab": {
          "base_uri": "https://localhost:8080/"
        },
        "id": "Pv_VELWRCg86",
        "outputId": "d638fc62-c69c-4a54-c58e-3255eca2b854"
      },
      "source": [
        "from google.colab import drive\n",
        "drive.mount('/content/drive', force_remount=True)"
      ],
      "execution_count": null,
      "outputs": [
        {
          "output_type": "stream",
          "name": "stdout",
          "text": [
            "Mounted at /content/drive\n"
          ]
        }
      ]
    },
    {
      "cell_type": "code",
      "metadata": {
        "id": "vdBoU0SSROUo"
      },
      "source": [
        "!pip install \"torch==1.4\" \"torchvision==0.5.0\""
      ],
      "execution_count": null,
      "outputs": []
    },
    {
      "cell_type": "code",
      "metadata": {
        "id": "rxFBQaCxpdbJ"
      },
      "source": [
        "import os\n",
        "import numpy as np\n",
        "from scipy.io import loadmat\n",
        "import matplotlib.pyplot as plt\n",
        "from pathlib import Path\n",
        "\n",
        "import keras\n",
        "from keras.models import Sequential\n",
        "from keras.preprocessing.image import ImageDataGenerator\n",
        "from keras.layers import Dense, Dropout, Flatten, Conv2D, MaxPool2D,GlobalMaxPooling2D\n",
        "from keras.callbacks import ModelCheckpoint, LearningRateScheduler, TensorBoard, EarlyStopping, ReduceLROnPlateau\n",
        "from keras import backend as K \n",
        "\n",
        "\n",
        "import torch\n",
        "from fastai import *\n",
        "from fastai.vision import *\n",
        "from fastai.callbacks import *\n",
        "\n",
        "from sklearn.preprocessing import LabelBinarizer\n",
        "from sklearn.model_selection import train_test_split\n",
        "from sklearn.metrics import confusion_matrix\n",
        "from sklearn.metrics import classification_report,confusion_matrix"
      ],
      "execution_count": null,
      "outputs": []
    },
    {
      "cell_type": "markdown",
      "metadata": {
        "id": "ttFy2AV2Z5Hq"
      },
      "source": [
        "# Defining Labels "
      ]
    },
    {
      "cell_type": "markdown",
      "metadata": {
        "id": "w8E9OKFKU-sP"
      },
      "source": [
        "Importing test set and corresponding labels\n"
      ]
    },
    {
      "cell_type": "code",
      "metadata": {
        "colab": {
          "base_uri": "https://localhost:8080/"
        },
        "id": "MI2ZIZMllqTP",
        "outputId": "8e45c5a1-63f5-4cce-ce99-3a4bce89c3a3"
      },
      "source": [
        "test = '/content/drive/MyDrive/Data_new/Hybrid_1'\n",
        "test_list=os.listdir(test)\n",
        "print(test_list)"
      ],
      "execution_count": null,
      "outputs": [
        {
          "output_type": "stream",
          "name": "stdout",
          "text": [
            "['0', '3', '1', '2', 'models']\n"
          ]
        }
      ]
    },
    {
      "cell_type": "code",
      "metadata": {
        "colab": {
          "base_uri": "https://localhost:8080/"
        },
        "id": "gnd4dRtKj_qk",
        "outputId": "89dc19cd-f60a-4a59-a117-24be40e5f48e"
      },
      "source": [
        "test = '/content/drive/MyDrive/Data_new/Hybrid_1_test'\n",
        "test_list=os.listdir(test)\n",
        "for f in test_list:\n",
        "  f_name=os.path.join(test, f) \n",
        "  num = int(f.replace(\".png\",\"\"))\n",
        "  \n",
        "\n",
        "  if f==os.listdir(test)[0]:\n",
        "    if num<484: \n",
        "      l=np.ones((1,1))*0\n",
        "      continue\n",
        "    elif num<1815: \n",
        "      l = np.ones((1,1))*2\n",
        "      continue \n",
        "    elif num<3267: \n",
        "      l = np.ones((1,1))*1\n",
        "      continue \n",
        "    else: \n",
        "      l = np.ones((1,1))*3\n",
        "      continue \n",
        "  \n",
        "  if num<484: \n",
        "    m = np.ones((1,1))*0\n",
        "    l = np.concatenate((l, m))\n",
        "  elif num<1815: \n",
        "    m = np.ones((1,1))*2\n",
        "    l = np.concatenate((l, m))\n",
        "  elif num<3267: \n",
        "    m = np.ones((1,1))*1\n",
        "    l = np.concatenate((l, m))\n",
        "  else: \n",
        "    m = np.ones((1,1))*3\n",
        "    l = np.concatenate((l, m))\n",
        "  #print(num, m)\n",
        "print(l.shape)"
      ],
      "execution_count": null,
      "outputs": [
        {
          "output_type": "stream",
          "name": "stdout",
          "text": [
            "(942, 1)\n"
          ]
        }
      ]
    },
    {
      "cell_type": "markdown",
      "metadata": {
        "id": "D5v0iWtvUvMU"
      },
      "source": [
        "Importing training labels\n"
      ]
    },
    {
      "cell_type": "code",
      "metadata": {
        "id": "reTS6U-9vpA_"
      },
      "source": [
        "source = '/content/drive/MyDrive/Data_new/Hybrid_1'\n",
        "source_0=os.listdir(source+\"/0\")\n",
        "source_2=os.listdir(source+\"/2\")\n",
        "source_1=os.listdir(source+\"/1\")\n",
        "source_3=os.listdir(source+\"/3\")\n",
        "\n",
        "\n",
        "n_label = np.ones((len(source_0),1))*0\n",
        "i_label = np.ones((len(source_2),1))*2\n",
        "b_label = np.ones((len(source_1),1))*1\n",
        "o_label = np.ones((len(source_3),1))*3"
      ],
      "execution_count": null,
      "outputs": []
    },
    {
      "cell_type": "code",
      "metadata": {
        "colab": {
          "base_uri": "https://localhost:8080/"
        },
        "id": "rGjSp1-YwMIa",
        "outputId": "cf62903e-710b-4060-903c-4821556e3b37"
      },
      "source": [
        "label = np.concatenate((n_label, i_label, b_label, o_label))\n",
        "print(label.shape)"
      ],
      "execution_count": null,
      "outputs": [
        {
          "output_type": "stream",
          "name": "stdout",
          "text": [
            "(3777, 1)\n"
          ]
        }
      ]
    },
    {
      "cell_type": "markdown",
      "metadata": {
        "id": "Bnl3Lzk2U0d_"
      },
      "source": [
        "Binarizing both labels"
      ]
    },
    {
      "cell_type": "code",
      "metadata": {
        "id": "2pt13wuMc9em"
      },
      "source": [
        "label_encoder  = LabelBinarizer()\n",
        "U_L  = label_encoder.fit_transform(label)\n",
        "T_L = label_encoder.fit_transform(l)"
      ],
      "execution_count": null,
      "outputs": []
    },
    {
      "cell_type": "markdown",
      "metadata": {
        "id": "rTQgW0XjNtC1"
      },
      "source": [
        "# Training hybrid signal 1 using DenseNet121\n"
      ]
    },
    {
      "cell_type": "code",
      "metadata": {
        "colab": {
          "base_uri": "https://localhost:8080/",
          "height": 478
        },
        "id": "hNfcXNcaNxC5",
        "outputId": "789e2a1c-c60d-4fc1-df50-0a644ac8c467"
      },
      "source": [
        "tfms = get_transforms(do_flip=False, \n",
        "                      flip_vert=True,\n",
        "                      max_rotate= 20,\n",
        "                      max_zoom=.1,\n",
        "                      max_lighting=0.3, max_warp=0.2)\n",
        "\n",
        "np.random.seed(42)\n",
        "data_bigger = ImageDataBunch.from_folder('/content/drive/MyDrive/Data_new', train=\"Hybrid_1\", test='Hybrid_1_test', \n",
        "                                         valid_pct=0.2,\n",
        "                                         ds_tfms=tfms, #get_transforms(),\n",
        "                                         size=128, classes=['0', '1', '2', '3'],\n",
        "                                         num_workers=3).normalize(imagenet_stats)\n",
        "print(data_bigger.classes)\n",
        "\n",
        "data_bigger.show_batch(rows=1)"
      ],
      "execution_count": null,
      "outputs": [
        {
          "output_type": "stream",
          "name": "stderr",
          "text": [
            "/usr/local/lib/python3.7/dist-packages/fastai/data_block.py:541: UserWarning: You are labelling your items with CategoryList.\n",
            "Your train set contained the following unknown labels, the corresponding items have been discarded.\n",
            "EMD_2_test, EMD_1_test, EMD5_test, hybrid(inner only), Samples...\n",
            "  if getattr(ds, 'warn', False): warn(ds.warn)\n",
            "/usr/local/lib/python3.7/dist-packages/fastai/data_block.py:541: UserWarning: You are labelling your items with CategoryList.\n",
            "Your valid set contained the following unknown labels, the corresponding items have been discarded.\n",
            "EMD_2_test, EMD_1_test, EMD5_test, EMD3_test, VMD_2_test...\n",
            "  if getattr(ds, 'warn', False): warn(ds.warn)\n"
          ]
        },
        {
          "output_type": "stream",
          "name": "stdout",
          "text": [
            "['0', '1', '2', '3']\n"
          ]
        },
        {
          "output_type": "display_data",
          "data": {
            "text/plain": [
              "<Figure size 288x288 with 1 Axes>"
            ],
            "image/png": "[encoded data removed]"
          },
          "metadata": {
            "needs_background": "light"
          }
        }
      ]
    },
    {
      "cell_type": "markdown",
      "source": [
        "#Transfer Learning: DenseNet121"
      ],
      "metadata": {
        "id": "cyGrSD43vTCj"
      }
    },
    {
      "cell_type": "code",
      "metadata": {
        "colab": {
          "base_uri": "https://localhost:8080/",
          "height": 1000
        },
        "id": "2BhHrJbtN12k",
        "outputId": "62e516bf-70a7-467a-aec8-c2ee9bfec85f"
      },
      "source": [
        "learn = cnn_learner(data_bigger, models.densenet121, metrics=[error_rate, accuracy], wd=0.1)\n",
        "learn.summary()"
      ],
      "execution_count": null,
      "outputs": [
        {
          "output_type": "execute_result",
          "data": {
            "text/plain": [
              "Sequential\n",
              "======================================================================\n",
              "Layer (type)         Output Shape         Param #    Trainable \n",
              "======================================================================\n",
              "Conv2d               [64, 64, 64]         9,408      False     \n",
              "______________________________________________________________________\n",
              "BatchNorm2d          [64, 64, 64]         128        True      \n",
              "______________________________________________________________________\n",
              "ReLU                 [64, 64, 64]         0          False     \n",
              "______________________________________________________________________\n",
              "MaxPool2d            [64, 32, 32]         0          False     \n",
              "______________________________________________________________________\n",
              "BatchNorm2d          [64, 32, 32]         128        True      \n",
              "______________________________________________________________________\n",
              "ReLU                 [64, 32, 32]         0          False     \n",
              "______________________________________________________________________\n",
              "Conv2d               [128, 32, 32]        8,192      False     \n",
              "______________________________________________________________________\n",
              "BatchNorm2d          [128, 32, 32]        256        True      \n",
              "______________________________________________________________________\n",
              "ReLU                 [128, 32, 32]        0          False     \n",
              "______________________________________________________________________\n",
              "Conv2d               [32, 32, 32]         36,864     False     \n",
              "______________________________________________________________________\n",
              "BatchNorm2d          [96, 32, 32]         192        True      \n",
              "______________________________________________________________________\n",
              "ReLU                 [96, 32, 32]         0          False     \n",
              "______________________________________________________________________\n",
              "Conv2d               [128, 32, 32]        12,288     False     \n",
              "______________________________________________________________________\n",
              "BatchNorm2d          [128, 32, 32]        256        True      \n",
              "______________________________________________________________________\n",
              "ReLU                 [128, 32, 32]        0          False     \n",
              "______________________________________________________________________\n",
              "Conv2d               [32, 32, 32]         36,864     False     \n",
              "______________________________________________________________________\n",
              "BatchNorm2d          [128, 32, 32]        256        True      \n",
              "______________________________________________________________________\n",
              "ReLU                 [128, 32, 32]        0          False     \n",
              "______________________________________________________________________\n",
              "Conv2d               [128, 32, 32]        16,384     False     \n",
              "______________________________________________________________________\n",
              "BatchNorm2d          [128, 32, 32]        256        True      \n",
              "______________________________________________________________________\n",
              "ReLU                 [128, 32, 32]        0          False     \n",
              "______________________________________________________________________\n",
              "Conv2d               [32, 32, 32]         36,864     False     \n",
              "______________________________________________________________________\n",
              "BatchNorm2d          [160, 32, 32]        320        True      \n",
              "______________________________________________________________________\n",
              "ReLU                 [160, 32, 32]        0          False     \n",
              "______________________________________________________________________\n",
              "Conv2d               [128, 32, 32]        20,480     False     \n",
              "______________________________________________________________________\n",
              "BatchNorm2d          [128, 32, 32]        256        True      \n",
              "______________________________________________________________________\n",
              "ReLU                 [128, 32, 32]        0          False     \n",
              "______________________________________________________________________\n",
              "Conv2d               [32, 32, 32]         36,864     False     \n",
              "______________________________________________________________________\n",
              "BatchNorm2d          [192, 32, 32]        384        True      \n",
              "______________________________________________________________________\n",
              "ReLU                 [192, 32, 32]        0          False     \n",
              "______________________________________________________________________\n",
              "Conv2d               [128, 32, 32]        24,576     False     \n",
              "______________________________________________________________________\n",
              "BatchNorm2d          [128, 32, 32]        256        True      \n",
              "______________________________________________________________________\n",
              "ReLU                 [128, 32, 32]        0          False     \n",
              "______________________________________________________________________\n",
              "Conv2d               [32, 32, 32]         36,864     False     \n",
              "______________________________________________________________________\n",
              "BatchNorm2d          [224, 32, 32]        448        True      \n",
              "______________________________________________________________________\n",
              "ReLU                 [224, 32, 32]        0          False     \n",
              "______________________________________________________________________\n",
              "Conv2d               [128, 32, 32]        28,672     False     \n",
              "______________________________________________________________________\n",
              "BatchNorm2d          [128, 32, 32]        256        True      \n",
              "______________________________________________________________________\n",
              "ReLU                 [128, 32, 32]        0          False     \n",
              "______________________________________________________________________\n",
              "Conv2d               [32, 32, 32]         36,864     False     \n",
              "______________________________________________________________________\n",
              "BatchNorm2d          [256, 32, 32]        512        True      \n",
              "______________________________________________________________________\n",
              "ReLU                 [256, 32, 32]        0          False     \n",
              "______________________________________________________________________\n",
              "Conv2d               [128, 32, 32]        32,768     False     \n",
              "______________________________________________________________________\n",
              "AvgPool2d            [128, 16, 16]        0          False     \n",
              "______________________________________________________________________\n",
              "BatchNorm2d          [128, 16, 16]        256        True      \n",
              "______________________________________________________________________\n",
              "ReLU                 [128, 16, 16]        0          False     \n",
              "______________________________________________________________________\n",
              "Conv2d               [128, 16, 16]        16,384     False     \n",
              "______________________________________________________________________\n",
              "BatchNorm2d          [128, 16, 16]        256        True      \n",
              "______________________________________________________________________\n",
              "ReLU                 [128, 16, 16]        0          False     \n",
              "______________________________________________________________________\n",
              "Conv2d               [32, 16, 16]         36,864     False     \n",
              "______________________________________________________________________\n",
              "BatchNorm2d          [160, 16, 16]        320        True      \n",
              "______________________________________________________________________\n",
              "ReLU                 [160, 16, 16]        0          False     \n",
              "______________________________________________________________________\n",
              "Conv2d               [128, 16, 16]        20,480     False     \n",
              "______________________________________________________________________\n",
              "BatchNorm2d          [128, 16, 16]        256        True      \n",
              "______________________________________________________________________\n",
              "ReLU                 [128, 16, 16]        0          False     \n",
              "______________________________________________________________________\n",
              "Conv2d               [32, 16, 16]         36,864     False     \n",
              "______________________________________________________________________\n",
              "BatchNorm2d          [192, 16, 16]        384        True      \n",
              "______________________________________________________________________\n",
              "ReLU                 [192, 16, 16]        0          False     \n",
              "______________________________________________________________________\n",
              "Conv2d               [128, 16, 16]        24,576     False     \n",
              "______________________________________________________________________\n",
              "BatchNorm2d          [128, 16, 16]        256        True      \n",
              "______________________________________________________________________\n",
              "ReLU                 [128, 16, 16]        0          False     \n",
              "______________________________________________________________________\n",
              "Conv2d               [32, 16, 16]         36,864     False     \n",
              "______________________________________________________________________\n",
              "BatchNorm2d          [224, 16, 16]        448        True      \n",
              "______________________________________________________________________\n",
              "ReLU                 [224, 16, 16]        0          False     \n",
              "______________________________________________________________________\n",
              "Conv2d               [128, 16, 16]        28,672     False     \n",
              "______________________________________________________________________\n",
              "BatchNorm2d          [128, 16, 16]        256        True      \n",
              "______________________________________________________________________\n",
              "ReLU                 [128, 16, 16]        0          False     \n",
              "______________________________________________________________________\n",
              "Conv2d               [32, 16, 16]         36,864     False     \n",
              "______________________________________________________________________\n",
              "BatchNorm2d          [256, 16, 16]        512        True      \n",
              "______________________________________________________________________\n",
              "ReLU                 [256, 16, 16]        0          False     \n",
              "______________________________________________________________________\n",
              "Conv2d               [128, 16, 16]        32,768     False     \n",
              "______________________________________________________________________\n",
              "BatchNorm2d          [128, 16, 16]        256        True      \n",
              "______________________________________________________________________\n",
              "ReLU                 [128, 16, 16]        0          False     \n",
              "______________________________________________________________________\n",
              "Conv2d               [32, 16, 16]         36,864     False     \n",
              "______________________________________________________________________\n",
              "BatchNorm2d          [288, 16, 16]        576        True      \n",
              "______________________________________________________________________\n",
              "ReLU                 [288, 16, 16]        0          False     \n",
              "______________________________________________________________________\n",
              "Conv2d               [128, 16, 16]        36,864     False     \n",
              "______________________________________________________________________\n",
              "BatchNorm2d          [128, 16, 16]        256        True      \n",
              "______________________________________________________________________\n",
              "ReLU                 [128, 16, 16]        0          False     \n",
              "______________________________________________________________________\n",
              "Conv2d               [32, 16, 16]         36,864     False     \n",
              "______________________________________________________________________\n",
              "BatchNorm2d          [320, 16, 16]        640        True      \n",
              "______________________________________________________________________\n",
              "ReLU                 [320, 16, 16]        0          False     \n",
              "______________________________________________________________________\n",
              "Conv2d               [128, 16, 16]        40,960     False     \n",
              "______________________________________________________________________\n",
              "BatchNorm2d          [128, 16, 16]        256        True      \n",
              "______________________________________________________________________\n",
              "ReLU                 [128, 16, 16]        0          False     \n",
              "______________________________________________________________________\n",
              "Conv2d               [32, 16, 16]         36,864     False     \n",
              "______________________________________________________________________\n",
              "BatchNorm2d          [352, 16, 16]        704        True      \n",
              "______________________________________________________________________\n",
              "ReLU                 [352, 16, 16]        0          False     \n",
              "______________________________________________________________________\n",
              "Conv2d               [128, 16, 16]        45,056     False     \n",
              "______________________________________________________________________\n",
              "BatchNorm2d          [128, 16, 16]        256        True      \n",
              "______________________________________________________________________\n",
              "ReLU                 [128, 16, 16]        0          False     \n",
              "______________________________________________________________________\n",
              "Conv2d               [32, 16, 16]         36,864     False     \n",
              "______________________________________________________________________\n",
              "BatchNorm2d          [384, 16, 16]        768        True      \n",
              "______________________________________________________________________\n",
              "ReLU                 [384, 16, 16]        0          False     \n",
              "______________________________________________________________________\n",
              "Conv2d               [128, 16, 16]        49,152     False     \n",
              "______________________________________________________________________\n",
              "BatchNorm2d          [128, 16, 16]        256        True      \n",
              "______________________________________________________________________\n",
              "ReLU                 [128, 16, 16]        0          False     \n",
              "______________________________________________________________________\n",
              "Conv2d               [32, 16, 16]         36,864     False     \n",
              "______________________________________________________________________\n",
              "BatchNorm2d          [416, 16, 16]        832        True      \n",
              "______________________________________________________________________\n",
              "ReLU                 [416, 16, 16]        0          False     \n",
              "______________________________________________________________________\n",
              "Conv2d               [128, 16, 16]        53,248     False     \n",
              "______________________________________________________________________\n",
              "BatchNorm2d          [128, 16, 16]        256        True      \n",
              "______________________________________________________________________\n",
              "ReLU                 [128, 16, 16]        0          False     \n",
              "______________________________________________________________________\n",
              "Conv2d               [32, 16, 16]         36,864     False     \n",
              "______________________________________________________________________\n",
              "BatchNorm2d          [448, 16, 16]        896        True      \n",
              "______________________________________________________________________\n",
              "ReLU                 [448, 16, 16]        0          False     \n",
              "______________________________________________________________________\n",
              "Conv2d               [128, 16, 16]        57,344     False     \n",
              "______________________________________________________________________\n",
              "BatchNorm2d          [128, 16, 16]        256        True      \n",
              "______________________________________________________________________\n",
              "ReLU                 [128, 16, 16]        0          False     \n",
              "______________________________________________________________________\n",
              "Conv2d               [32, 16, 16]         36,864     False     \n",
              "______________________________________________________________________\n",
              "BatchNorm2d          [480, 16, 16]        960        True      \n",
              "______________________________________________________________________\n",
              "ReLU                 [480, 16, 16]        0          False     \n",
              "______________________________________________________________________\n",
              "Conv2d               [128, 16, 16]        61,440     False     \n",
              "______________________________________________________________________\n",
              "BatchNorm2d          [128, 16, 16]        256        True      \n",
              "______________________________________________________________________\n",
              "ReLU                 [128, 16, 16]        0          False     \n",
              "______________________________________________________________________\n",
              "Conv2d               [32, 16, 16]         36,864     False     \n",
              "______________________________________________________________________\n",
              "BatchNorm2d          [512, 16, 16]        1,024      True      \n",
              "______________________________________________________________________\n",
              "ReLU                 [512, 16, 16]        0          False     \n",
              "______________________________________________________________________\n",
              "Conv2d               [256, 16, 16]        131,072    False     \n",
              "______________________________________________________________________\n",
              "AvgPool2d            [256, 8, 8]          0          False     \n",
              "______________________________________________________________________\n",
              "BatchNorm2d          [256, 8, 8]          512        True      \n",
              "______________________________________________________________________\n",
              "ReLU                 [256, 8, 8]          0          False     \n",
              "______________________________________________________________________\n",
              "Conv2d               [128, 8, 8]          32,768     False     \n",
              "______________________________________________________________________\n",
              "BatchNorm2d          [128, 8, 8]          256        True      \n",
              "______________________________________________________________________\n",
              "ReLU                 [128, 8, 8]          0          False     \n",
              "______________________________________________________________________\n",
              "Conv2d               [32, 8, 8]           36,864     False     \n",
              "______________________________________________________________________\n",
              "BatchNorm2d          [288, 8, 8]          576        True      \n",
              "______________________________________________________________________\n",
              "ReLU                 [288, 8, 8]          0          False     \n",
              "______________________________________________________________________\n",
              "Conv2d               [128, 8, 8]          36,864     False     \n",
              "______________________________________________________________________\n",
              "BatchNorm2d          [128, 8, 8]          256        True      \n",
              "______________________________________________________________________\n",
              "ReLU                 [128, 8, 8]          0          False     \n",
              "______________________________________________________________________\n",
              "Conv2d               [32, 8, 8]           36,864     False     \n",
              "______________________________________________________________________\n",
              "BatchNorm2d          [320, 8, 8]          640        True      \n",
              "______________________________________________________________________\n",
              "ReLU                 [320, 8, 8]          0          False     \n",
              "______________________________________________________________________\n",
              "Conv2d               [128, 8, 8]          40,960     False     \n",
              "______________________________________________________________________\n",
              "BatchNorm2d          [128, 8, 8]          256        True      \n",
              "______________________________________________________________________\n",
              "ReLU                 [128, 8, 8]          0          False     \n",
              "______________________________________________________________________\n",
              "Conv2d               [32, 8, 8]           36,864     False     \n",
              "______________________________________________________________________\n",
              "BatchNorm2d          [352, 8, 8]          704        True      \n",
              "______________________________________________________________________\n",
              "ReLU                 [352, 8, 8]          0          False     \n",
              "______________________________________________________________________\n",
              "Conv2d               [128, 8, 8]          45,056     False     \n",
              "______________________________________________________________________\n",
              "BatchNorm2d          [128, 8, 8]          256        True      \n",
              "______________________________________________________________________\n",
              "ReLU                 [128, 8, 8]          0          False     \n",
              "______________________________________________________________________\n",
              "Conv2d               [32, 8, 8]           36,864     False     \n",
              "______________________________________________________________________\n",
              "BatchNorm2d          [384, 8, 8]          768        True      \n",
              "______________________________________________________________________\n",
              "ReLU                 [384, 8, 8]          0          False     \n",
              "______________________________________________________________________\n",
              "Conv2d               [128, 8, 8]          49,152     False     \n",
              "______________________________________________________________________\n",
              "BatchNorm2d          [128, 8, 8]          256        True      \n",
              "______________________________________________________________________\n",
              "ReLU                 [128, 8, 8]          0          False     \n",
              "______________________________________________________________________\n",
              "Conv2d               [32, 8, 8]           36,864     False     \n",
              "______________________________________________________________________\n",
              "BatchNorm2d          [416, 8, 8]          832        True      \n",
              "______________________________________________________________________\n",
              "ReLU                 [416, 8, 8]          0          False     \n",
              "______________________________________________________________________\n",
              "Conv2d               [128, 8, 8]          53,248     False     \n",
              "______________________________________________________________________\n",
              "BatchNorm2d          [128, 8, 8]          256        True      \n",
              "______________________________________________________________________\n",
              "ReLU                 [128, 8, 8]          0          False     \n",
              "______________________________________________________________________\n",
              "Conv2d               [32, 8, 8]           36,864     False     \n",
              "______________________________________________________________________\n",
              "BatchNorm2d          [448, 8, 8]          896        True      \n",
              "______________________________________________________________________\n",
              "ReLU                 [448, 8, 8]          0          False     \n",
              "______________________________________________________________________\n",
              "Conv2d               [128, 8, 8]          57,344     False     \n",
              "______________________________________________________________________\n",
              "BatchNorm2d          [128, 8, 8]          256        True      \n",
              "______________________________________________________________________\n",
              "ReLU                 [128, 8, 8]          0          False     \n",
              "______________________________________________________________________\n",
              "Conv2d               [32, 8, 8]           36,864     False     \n",
              "______________________________________________________________________\n",
              "BatchNorm2d          [480, 8, 8]          960        True      \n",
              "______________________________________________________________________\n",
              "ReLU                 [480, 8, 8]          0          False     \n",
              "______________________________________________________________________\n",
              "Conv2d               [128, 8, 8]          61,440     False     \n",
              "______________________________________________________________________\n",
              "BatchNorm2d          [128, 8, 8]          256        True      \n",
              "______________________________________________________________________\n",
              "ReLU                 [128, 8, 8]          0          False     \n",
              "______________________________________________________________________\n",
              "Conv2d               [32, 8, 8]           36,864     False     \n",
              "______________________________________________________________________\n",
              "BatchNorm2d          [512, 8, 8]          1,024      True      \n",
              "______________________________________________________________________\n",
              "ReLU                 [512, 8, 8]          0          False     \n",
              "______________________________________________________________________\n",
              "Conv2d               [128, 8, 8]          65,536     False     \n",
              "______________________________________________________________________\n",
              "BatchNorm2d          [128, 8, 8]          256        True      \n",
              "______________________________________________________________________\n",
              "ReLU                 [128, 8, 8]          0          False     \n",
              "______________________________________________________________________\n",
              "Conv2d               [32, 8, 8]           36,864     False     \n",
              "______________________________________________________________________\n",
              "BatchNorm2d          [544, 8, 8]          1,088      True      \n",
              "______________________________________________________________________\n",
              "ReLU                 [544, 8, 8]          0          False     \n",
              "______________________________________________________________________\n",
              "Conv2d               [128, 8, 8]          69,632     False     \n",
              "______________________________________________________________________\n",
              "BatchNorm2d          [128, 8, 8]          256        True      \n",
              "______________________________________________________________________\n",
              "ReLU                 [128, 8, 8]          0          False     \n",
              "______________________________________________________________________\n",
              "Conv2d               [32, 8, 8]           36,864     False     \n",
              "______________________________________________________________________\n",
              "BatchNorm2d          [576, 8, 8]          1,152      True      \n",
              "______________________________________________________________________\n",
              "ReLU                 [576, 8, 8]          0          False     \n",
              "______________________________________________________________________\n",
              "Conv2d               [128, 8, 8]          73,728     False     \n",
              "______________________________________________________________________\n",
              "BatchNorm2d          [128, 8, 8]          256        True      \n",
              "______________________________________________________________________\n",
              "ReLU                 [128, 8, 8]          0          False     \n",
              "______________________________________________________________________\n",
              "Conv2d               [32, 8, 8]           36,864     False     \n",
              "______________________________________________________________________\n",
              "BatchNorm2d          [608, 8, 8]          1,216      True      \n",
              "______________________________________________________________________\n",
              "ReLU                 [608, 8, 8]          0          False     \n",
              "______________________________________________________________________\n",
              "Conv2d               [128, 8, 8]          77,824     False     \n",
              "______________________________________________________________________\n",
              "BatchNorm2d          [128, 8, 8]          256        True      \n",
              "______________________________________________________________________\n",
              "ReLU                 [128, 8, 8]          0          False     \n",
              "______________________________________________________________________\n",
              "Conv2d               [32, 8, 8]           36,864     False     \n",
              "______________________________________________________________________\n",
              "BatchNorm2d          [640, 8, 8]          1,280      True      \n",
              "______________________________________________________________________\n",
              "ReLU                 [640, 8, 8]          0          False     \n",
              "______________________________________________________________________\n",
              "Conv2d               [128, 8, 8]          81,920     False     \n",
              "______________________________________________________________________\n",
              "BatchNorm2d          [128, 8, 8]          256        True      \n",
              "______________________________________________________________________\n",
              "ReLU                 [128, 8, 8]          0          False     \n",
              "______________________________________________________________________\n",
              "Conv2d               [32, 8, 8]           36,864     False     \n",
              "______________________________________________________________________\n",
              "BatchNorm2d          [672, 8, 8]          1,344      True      \n",
              "______________________________________________________________________\n",
              "ReLU                 [672, 8, 8]          0          False     \n",
              "______________________________________________________________________\n",
              "Conv2d               [128, 8, 8]          86,016     False     \n",
              "______________________________________________________________________\n",
              "BatchNorm2d          [128, 8, 8]          256        True      \n",
              "______________________________________________________________________\n",
              "ReLU                 [128, 8, 8]          0          False     \n",
              "______________________________________________________________________\n",
              "Conv2d               [32, 8, 8]           36,864     False     \n",
              "______________________________________________________________________\n",
              "BatchNorm2d          [704, 8, 8]          1,408      True      \n",
              "______________________________________________________________________\n",
              "ReLU                 [704, 8, 8]          0          False     \n",
              "______________________________________________________________________\n",
              "Conv2d               [128, 8, 8]          90,112     False     \n",
              "______________________________________________________________________\n",
              "BatchNorm2d          [128, 8, 8]          256        True      \n",
              "______________________________________________________________________\n",
              "ReLU                 [128, 8, 8]          0          False     \n",
              "______________________________________________________________________\n",
              "Conv2d               [32, 8, 8]           36,864     False     \n",
              "______________________________________________________________________\n",
              "BatchNorm2d          [736, 8, 8]          1,472      True      \n",
              "______________________________________________________________________\n",
              "ReLU                 [736, 8, 8]          0          False     \n",
              "______________________________________________________________________\n",
              "Conv2d               [128, 8, 8]          94,208     False     \n",
              "______________________________________________________________________\n",
              "BatchNorm2d          [128, 8, 8]          256        True      \n",
              "______________________________________________________________________\n",
              "ReLU                 [128, 8, 8]          0          False     \n",
              "______________________________________________________________________\n",
              "Conv2d               [32, 8, 8]           36,864     False     \n",
              "______________________________________________________________________\n",
              "BatchNorm2d          [768, 8, 8]          1,536      True      \n",
              "______________________________________________________________________\n",
              "ReLU                 [768, 8, 8]          0          False     \n",
              "______________________________________________________________________\n",
              "Conv2d               [128, 8, 8]          98,304     False     \n",
              "______________________________________________________________________\n",
              "BatchNorm2d          [128, 8, 8]          256        True      \n",
              "______________________________________________________________________\n",
              "ReLU                 [128, 8, 8]          0          False     \n",
              "______________________________________________________________________\n",
              "Conv2d               [32, 8, 8]           36,864     False     \n",
              "______________________________________________________________________\n",
              "BatchNorm2d          [800, 8, 8]          1,600      True      \n",
              "______________________________________________________________________\n",
              "ReLU                 [800, 8, 8]          0          False     \n",
              "______________________________________________________________________\n",
              "Conv2d               [128, 8, 8]          102,400    False     \n",
              "______________________________________________________________________\n",
              "BatchNorm2d          [128, 8, 8]          256        True      \n",
              "______________________________________________________________________\n",
              "ReLU                 [128, 8, 8]          0          False     \n",
              "______________________________________________________________________\n",
              "Conv2d               [32, 8, 8]           36,864     False     \n",
              "______________________________________________________________________\n",
              "BatchNorm2d          [832, 8, 8]          1,664      True      \n",
              "______________________________________________________________________\n",
              "ReLU                 [832, 8, 8]          0          False     \n",
              "______________________________________________________________________\n",
              "Conv2d               [128, 8, 8]          106,496    False     \n",
              "______________________________________________________________________\n",
              "BatchNorm2d          [128, 8, 8]          256        True      \n",
              "______________________________________________________________________\n",
              "ReLU                 [128, 8, 8]          0          False     \n",
              "______________________________________________________________________\n",
              "Conv2d               [32, 8, 8]           36,864     False     \n",
              "______________________________________________________________________\n",
              "BatchNorm2d          [864, 8, 8]          1,728      True      \n",
              "______________________________________________________________________\n",
              "ReLU                 [864, 8, 8]          0          False     \n",
              "______________________________________________________________________\n",
              "Conv2d               [128, 8, 8]          110,592    False     \n",
              "______________________________________________________________________\n",
              "BatchNorm2d          [128, 8, 8]          256        True      \n",
              "______________________________________________________________________\n",
              "ReLU                 [128, 8, 8]          0          False     \n",
              "______________________________________________________________________\n",
              "Conv2d               [32, 8, 8]           36,864     False     \n",
              "______________________________________________________________________\n",
              "BatchNorm2d          [896, 8, 8]          1,792      True      \n",
              "______________________________________________________________________\n",
              "ReLU                 [896, 8, 8]          0          False     \n",
              "______________________________________________________________________\n",
              "Conv2d               [128, 8, 8]          114,688    False     \n",
              "______________________________________________________________________\n",
              "BatchNorm2d          [128, 8, 8]          256        True      \n",
              "______________________________________________________________________\n",
              "ReLU                 [128, 8, 8]          0          False     \n",
              "______________________________________________________________________\n",
              "Conv2d               [32, 8, 8]           36,864     False     \n",
              "______________________________________________________________________\n",
              "BatchNorm2d          [928, 8, 8]          1,856      True      \n",
              "______________________________________________________________________\n",
              "ReLU                 [928, 8, 8]          0          False     \n",
              "______________________________________________________________________\n",
              "Conv2d               [128, 8, 8]          118,784    False     \n",
              "______________________________________________________________________\n",
              "BatchNorm2d          [128, 8, 8]          256        True      \n",
              "______________________________________________________________________\n",
              "ReLU                 [128, 8, 8]          0          False     \n",
              "______________________________________________________________________\n",
              "Conv2d               [32, 8, 8]           36,864     False     \n",
              "______________________________________________________________________\n",
              "BatchNorm2d          [960, 8, 8]          1,920      True      \n",
              "______________________________________________________________________\n",
              "ReLU                 [960, 8, 8]          0          False     \n",
              "______________________________________________________________________\n",
              "Conv2d               [128, 8, 8]          122,880    False     \n",
              "______________________________________________________________________\n",
              "BatchNorm2d          [128, 8, 8]          256        True      \n",
              "______________________________________________________________________\n",
              "ReLU                 [128, 8, 8]          0          False     \n",
              "______________________________________________________________________\n",
              "Conv2d               [32, 8, 8]           36,864     False     \n",
              "______________________________________________________________________\n",
              "BatchNorm2d          [992, 8, 8]          1,984      True      \n",
              "______________________________________________________________________\n",
              "ReLU                 [992, 8, 8]          0          False     \n",
              "______________________________________________________________________\n",
              "Conv2d               [128, 8, 8]          126,976    False     \n",
              "______________________________________________________________________\n",
              "BatchNorm2d          [128, 8, 8]          256        True      \n",
              "______________________________________________________________________\n",
              "ReLU                 [128, 8, 8]          0          False     \n",
              "______________________________________________________________________\n",
              "Conv2d               [32, 8, 8]           36,864     False     \n",
              "______________________________________________________________________\n",
              "BatchNorm2d          [1024, 8, 8]         2,048      True      \n",
              "______________________________________________________________________\n",
              "ReLU                 [1024, 8, 8]         0          False     \n",
              "______________________________________________________________________\n",
              "Conv2d               [512, 8, 8]          524,288    False     \n",
              "______________________________________________________________________\n",
              "AvgPool2d            [512, 4, 4]          0          False     \n",
              "______________________________________________________________________\n",
              "BatchNorm2d          [512, 4, 4]          1,024      True      \n",
              "______________________________________________________________________\n",
              "ReLU                 [512, 4, 4]          0          False     \n",
              "______________________________________________________________________\n",
              "Conv2d               [128, 4, 4]          65,536     False     \n",
              "______________________________________________________________________\n",
              "BatchNorm2d          [128, 4, 4]          256        True      \n",
              "______________________________________________________________________\n",
              "ReLU                 [128, 4, 4]          0          False     \n",
              "______________________________________________________________________\n",
              "Conv2d               [32, 4, 4]           36,864     False     \n",
              "______________________________________________________________________\n",
              "BatchNorm2d          [544, 4, 4]          1,088      True      \n",
              "______________________________________________________________________\n",
              "ReLU                 [544, 4, 4]          0          False     \n",
              "______________________________________________________________________\n",
              "Conv2d               [128, 4, 4]          69,632     False     \n",
              "______________________________________________________________________\n",
              "BatchNorm2d          [128, 4, 4]          256        True      \n",
              "______________________________________________________________________\n",
              "ReLU                 [128, 4, 4]          0          False     \n",
              "______________________________________________________________________\n",
              "Conv2d               [32, 4, 4]           36,864     False     \n",
              "______________________________________________________________________\n",
              "BatchNorm2d          [576, 4, 4]          1,152      True      \n",
              "______________________________________________________________________\n",
              "ReLU                 [576, 4, 4]          0          False     \n",
              "______________________________________________________________________\n",
              "Conv2d               [128, 4, 4]          73,728     False     \n",
              "______________________________________________________________________\n",
              "BatchNorm2d          [128, 4, 4]          256        True      \n",
              "______________________________________________________________________\n",
              "ReLU                 [128, 4, 4]          0          False     \n",
              "______________________________________________________________________\n",
              "Conv2d               [32, 4, 4]           36,864     False     \n",
              "______________________________________________________________________\n",
              "BatchNorm2d          [608, 4, 4]          1,216      True      \n",
              "______________________________________________________________________\n",
              "ReLU                 [608, 4, 4]          0          False     \n",
              "______________________________________________________________________\n",
              "Conv2d               [128, 4, 4]          77,824     False     \n",
              "______________________________________________________________________\n",
              "BatchNorm2d          [128, 4, 4]          256        True      \n",
              "______________________________________________________________________\n",
              "ReLU                 [128, 4, 4]          0          False     \n",
              "______________________________________________________________________\n",
              "Conv2d               [32, 4, 4]           36,864     False     \n",
              "______________________________________________________________________\n",
              "BatchNorm2d          [640, 4, 4]          1,280      True      \n",
              "______________________________________________________________________\n",
              "ReLU                 [640, 4, 4]          0          False     \n",
              "______________________________________________________________________\n",
              "Conv2d               [128, 4, 4]          81,920     False     \n",
              "______________________________________________________________________\n",
              "BatchNorm2d          [128, 4, 4]          256        True      \n",
              "______________________________________________________________________\n",
              "ReLU                 [128, 4, 4]          0          False     \n",
              "______________________________________________________________________\n",
              "Conv2d               [32, 4, 4]           36,864     False     \n",
              "______________________________________________________________________\n",
              "BatchNorm2d          [672, 4, 4]          1,344      True      \n",
              "______________________________________________________________________\n",
              "ReLU                 [672, 4, 4]          0          False     \n",
              "______________________________________________________________________\n",
              "Conv2d               [128, 4, 4]          86,016     False     \n",
              "______________________________________________________________________\n",
              "BatchNorm2d          [128, 4, 4]          256        True      \n",
              "______________________________________________________________________\n",
              "ReLU                 [128, 4, 4]          0          False     \n",
              "______________________________________________________________________\n",
              "Conv2d               [32, 4, 4]           36,864     False     \n",
              "______________________________________________________________________\n",
              "BatchNorm2d          [704, 4, 4]          1,408      True      \n",
              "______________________________________________________________________\n",
              "ReLU                 [704, 4, 4]          0          False     \n",
              "______________________________________________________________________\n",
              "Conv2d               [128, 4, 4]          90,112     False     \n",
              "______________________________________________________________________\n",
              "BatchNorm2d          [128, 4, 4]          256        True      \n",
              "______________________________________________________________________\n",
              "ReLU                 [128, 4, 4]          0          False     \n",
              "______________________________________________________________________\n",
              "Conv2d               [32, 4, 4]           36,864     False     \n",
              "______________________________________________________________________\n",
              "BatchNorm2d          [736, 4, 4]          1,472      True      \n",
              "______________________________________________________________________\n",
              "ReLU                 [736, 4, 4]          0          False     \n",
              "______________________________________________________________________\n",
              "Conv2d               [128, 4, 4]          94,208     False     \n",
              "______________________________________________________________________\n",
              "BatchNorm2d          [128, 4, 4]          256        True      \n",
              "______________________________________________________________________\n",
              "ReLU                 [128, 4, 4]          0          False     \n",
              "______________________________________________________________________\n",
              "Conv2d               [32, 4, 4]           36,864     False     \n",
              "______________________________________________________________________\n",
              "BatchNorm2d          [768, 4, 4]          1,536      True      \n",
              "______________________________________________________________________\n",
              "ReLU                 [768, 4, 4]          0          False     \n",
              "______________________________________________________________________\n",
              "Conv2d               [128, 4, 4]          98,304     False     \n",
              "______________________________________________________________________\n",
              "BatchNorm2d          [128, 4, 4]          256        True      \n",
              "______________________________________________________________________\n",
              "ReLU                 [128, 4, 4]          0          False     \n",
              "______________________________________________________________________\n",
              "Conv2d               [32, 4, 4]           36,864     False     \n",
              "______________________________________________________________________\n",
              "BatchNorm2d          [800, 4, 4]          1,600      True      \n",
              "______________________________________________________________________\n",
              "ReLU                 [800, 4, 4]          0          False     \n",
              "______________________________________________________________________\n",
              "Conv2d               [128, 4, 4]          102,400    False     \n",
              "______________________________________________________________________\n",
              "BatchNorm2d          [128, 4, 4]          256        True      \n",
              "______________________________________________________________________\n",
              "ReLU                 [128, 4, 4]          0          False     \n",
              "______________________________________________________________________\n",
              "Conv2d               [32, 4, 4]           36,864     False     \n",
              "______________________________________________________________________\n",
              "BatchNorm2d          [832, 4, 4]          1,664      True      \n",
              "______________________________________________________________________\n",
              "ReLU                 [832, 4, 4]          0          False     \n",
              "______________________________________________________________________\n",
              "Conv2d               [128, 4, 4]          106,496    False     \n",
              "______________________________________________________________________\n",
              "BatchNorm2d          [128, 4, 4]          256        True      \n",
              "______________________________________________________________________\n",
              "ReLU                 [128, 4, 4]          0          False     \n",
              "______________________________________________________________________\n",
              "Conv2d               [32, 4, 4]           36,864     False     \n",
              "______________________________________________________________________\n",
              "BatchNorm2d          [864, 4, 4]          1,728      True      \n",
              "______________________________________________________________________\n",
              "ReLU                 [864, 4, 4]          0          False     \n",
              "______________________________________________________________________\n",
              "Conv2d               [128, 4, 4]          110,592    False     \n",
              "______________________________________________________________________\n",
              "BatchNorm2d          [128, 4, 4]          256        True      \n",
              "______________________________________________________________________\n",
              "ReLU                 [128, 4, 4]          0          False     \n",
              "______________________________________________________________________\n",
              "Conv2d               [32, 4, 4]           36,864     False     \n",
              "______________________________________________________________________\n",
              "BatchNorm2d          [896, 4, 4]          1,792      True      \n",
              "______________________________________________________________________\n",
              "ReLU                 [896, 4, 4]          0          False     \n",
              "______________________________________________________________________\n",
              "Conv2d               [128, 4, 4]          114,688    False     \n",
              "______________________________________________________________________\n",
              "BatchNorm2d          [128, 4, 4]          256        True      \n",
              "______________________________________________________________________\n",
              "ReLU                 [128, 4, 4]          0          False     \n",
              "______________________________________________________________________\n",
              "Conv2d               [32, 4, 4]           36,864     False     \n",
              "______________________________________________________________________\n",
              "BatchNorm2d          [928, 4, 4]          1,856      True      \n",
              "______________________________________________________________________\n",
              "ReLU                 [928, 4, 4]          0          False     \n",
              "______________________________________________________________________\n",
              "Conv2d               [128, 4, 4]          118,784    False     \n",
              "______________________________________________________________________\n",
              "BatchNorm2d          [128, 4, 4]          256        True      \n",
              "______________________________________________________________________\n",
              "ReLU                 [128, 4, 4]          0          False     \n",
              "______________________________________________________________________\n",
              "Conv2d               [32, 4, 4]           36,864     False     \n",
              "______________________________________________________________________\n",
              "BatchNorm2d          [960, 4, 4]          1,920      True      \n",
              "______________________________________________________________________\n",
              "ReLU                 [960, 4, 4]          0          False     \n",
              "______________________________________________________________________\n",
              "Conv2d               [128, 4, 4]          122,880    False     \n",
              "______________________________________________________________________\n",
              "BatchNorm2d          [128, 4, 4]          256        True      \n",
              "______________________________________________________________________\n",
              "ReLU                 [128, 4, 4]          0          False     \n",
              "______________________________________________________________________\n",
              "Conv2d               [32, 4, 4]           36,864     False     \n",
              "______________________________________________________________________\n",
              "BatchNorm2d          [992, 4, 4]          1,984      True      \n",
              "______________________________________________________________________\n",
              "ReLU                 [992, 4, 4]          0          False     \n",
              "______________________________________________________________________\n",
              "Conv2d               [128, 4, 4]          126,976    False     \n",
              "______________________________________________________________________\n",
              "BatchNorm2d          [128, 4, 4]          256        True      \n",
              "______________________________________________________________________\n",
              "ReLU                 [128, 4, 4]          0          False     \n",
              "______________________________________________________________________\n",
              "Conv2d               [32, 4, 4]           36,864     False     \n",
              "______________________________________________________________________\n",
              "BatchNorm2d          [1024, 4, 4]         2,048      True      \n",
              "______________________________________________________________________\n",
              "AdaptiveAvgPool2d    [1024, 1, 1]         0          False     \n",
              "______________________________________________________________________\n",
              "AdaptiveMaxPool2d    [1024, 1, 1]         0          False     \n",
              "______________________________________________________________________\n",
              "Flatten              [2048]               0          False     \n",
              "______________________________________________________________________\n",
              "BatchNorm1d          [2048]               4,096      True      \n",
              "______________________________________________________________________\n",
              "Dropout              [2048]               0          False     \n",
              "______________________________________________________________________\n",
              "Linear               [512]                1,049,088  True      \n",
              "______________________________________________________________________\n",
              "ReLU                 [512]                0          False     \n",
              "______________________________________________________________________\n",
              "BatchNorm1d          [512]                1,024      True      \n",
              "______________________________________________________________________\n",
              "Dropout              [512]                0          False     \n",
              "______________________________________________________________________\n",
              "Linear               [4]                  2,052      True      \n",
              "______________________________________________________________________\n",
              "\n",
              "Total params: 8,010,116\n",
              "Total trainable params: 1,139,908\n",
              "Total non-trainable params: 6,870,208\n",
              "Optimized with 'torch.optim.adam.Adam', betas=(0.9, 0.99)\n",
              "Using true weight decay as discussed in https://www.fast.ai/2018/07/02/adam-weight-decay/ \n",
              "Loss function : FlattenedLoss\n",
              "======================================================================\n",
              "Callbacks functions applied "
            ],
            "application/vnd.google.colaboratory.intrinsic+json": {
              "type": "string"
            }
          },
          "metadata": {},
          "execution_count": 22
        }
      ]
    },
    {
      "cell_type": "code",
      "metadata": {
        "colab": {
          "base_uri": "https://localhost:8080/",
          "height": 1000
        },
        "id": "7dKE_VyuN4_e",
        "outputId": "16c8ff0a-808f-4a39-ade2-c87a1e62b08f"
      },
      "source": [
        "learn.unfreeze()\n",
        "learn.fit_one_cycle(10, max_lr=slice(5e-5, 5e-3),callbacks=[ShowGraph(learn),SaveModelCallback(learn)]) #50"
      ],
      "execution_count": null,
      "outputs": [
        {
          "output_type": "display_data",
          "data": {
            "text/plain": [
              "<IPython.core.display.HTML object>"
            ],
            "text/html": [
              "\n",
              "<style>\n",
              "    /* Turns off some styling */\n",
              "    progress {\n",
              "        /* gets rid of default border in Firefox and Opera. */\n",
              "        border: none;\n",
              "        /* Needs to be in here for Safari polyfill so background images work as expected. */\n",
              "        background-size: auto;\n",
              "    }\n",
              "    .progress-bar-interrupted, .progress-bar-interrupted::-webkit-progress-bar {\n",
              "        background: #F44336;\n",
              "    }\n",
              "</style>\n"
            ]
          },
          "metadata": {}
        },
        {
          "output_type": "display_data",
          "data": {
            "text/plain": [
              "<IPython.core.display.HTML object>"
            ],
            "text/html": [
              "<table border=\"1\" class=\"dataframe\">\n",
              "  <thead>\n",
              "    <tr style=\"text-align: left;\">\n",
              "      <th>epoch</th>\n",
              "      <th>train_loss</th>\n",
              "      <th>valid_loss</th>\n",
              "      <th>error_rate</th>\n",
              "      <th>accuracy</th>\n",
              "      <th>time</th>\n",
              "    </tr>\n",
              "  </thead>\n",
              "  <tbody>\n",
              "    <tr>\n",
              "      <td>0</td>\n",
              "      <td>0.262138</td>\n",
              "      <td>0.084072</td>\n",
              "      <td>0.034691</td>\n",
              "      <td>0.965309</td>\n",
              "      <td>16:37</td>\n",
              "    </tr>\n",
              "    <tr>\n",
              "      <td>1</td>\n",
              "      <td>0.113807</td>\n",
              "      <td>0.010454</td>\n",
              "      <td>0.003248</td>\n",
              "      <td>0.996752</td>\n",
              "      <td>05:36</td>\n",
              "    </tr>\n",
              "    <tr>\n",
              "      <td>2</td>\n",
              "      <td>0.062597</td>\n",
              "      <td>0.002348</td>\n",
              "      <td>0.000443</td>\n",
              "      <td>0.999557</td>\n",
              "      <td>05:32</td>\n",
              "    </tr>\n",
              "    <tr>\n",
              "      <td>3</td>\n",
              "      <td>0.039397</td>\n",
              "      <td>0.003936</td>\n",
              "      <td>0.000886</td>\n",
              "      <td>0.999114</td>\n",
              "      <td>05:33</td>\n",
              "    </tr>\n",
              "    <tr>\n",
              "      <td>4</td>\n",
              "      <td>0.031573</td>\n",
              "      <td>0.000582</td>\n",
              "      <td>0.000000</td>\n",
              "      <td>1.000000</td>\n",
              "      <td>05:33</td>\n",
              "    </tr>\n",
              "    <tr>\n",
              "      <td>5</td>\n",
              "      <td>0.010344</td>\n",
              "      <td>0.000318</td>\n",
              "      <td>0.000000</td>\n",
              "      <td>1.000000</td>\n",
              "      <td>05:34</td>\n",
              "    </tr>\n",
              "    <tr>\n",
              "      <td>6</td>\n",
              "      <td>0.009617</td>\n",
              "      <td>0.000079</td>\n",
              "      <td>0.000000</td>\n",
              "      <td>1.000000</td>\n",
              "      <td>05:32</td>\n",
              "    </tr>\n",
              "    <tr>\n",
              "      <td>7</td>\n",
              "      <td>0.004220</td>\n",
              "      <td>0.000020</td>\n",
              "      <td>0.000000</td>\n",
              "      <td>1.000000</td>\n",
              "      <td>05:31</td>\n",
              "    </tr>\n",
              "    <tr>\n",
              "      <td>8</td>\n",
              "      <td>0.003444</td>\n",
              "      <td>0.000007</td>\n",
              "      <td>0.000000</td>\n",
              "      <td>1.000000</td>\n",
              "      <td>05:32</td>\n",
              "    </tr>\n",
              "    <tr>\n",
              "      <td>9</td>\n",
              "      <td>0.001448</td>\n",
              "      <td>0.000007</td>\n",
              "      <td>0.000000</td>\n",
              "      <td>1.000000</td>\n",
              "      <td>05:30</td>\n",
              "    </tr>\n",
              "  </tbody>\n",
              "</table>"
            ]
          },
          "metadata": {}
        },
        {
          "output_type": "stream",
          "name": "stderr",
          "text": [
            "Exception ignored in: <function _MultiProcessingDataLoaderIter.__del__ at 0x7ff898506dd0>\n",
            "Traceback (most recent call last):\n",
            "  File \"/usr/local/lib/python3.7/dist-packages/torch/utils/data/dataloader.py\", line 961, in __del__\n",
            "    self._shutdown_workers()\n",
            "  File \"/usr/local/lib/python3.7/dist-packages/torch/utils/data/dataloader.py\", line 941, in _shutdown_workers\n",
            "    w.join()\n",
            "  File \"/usr/lib/python3.7/multiprocessing/process.py\", line 138, in join\n",
            "    assert self._parent_pid == os.getpid(), 'can only join a child process'\n",
            "AssertionError: can only join a child process\n",
            "Exception ignored in: <function _MultiProcessingDataLoaderIter.__del__ at 0x7ff898506dd0>\n",
            "Traceback (most recent call last):\n",
            "  File \"/usr/local/lib/python3.7/dist-packages/torch/utils/data/dataloader.py\", line 961, in __del__\n",
            "    self._shutdown_workers()\n",
            "  File \"/usr/local/lib/python3.7/dist-packages/torch/utils/data/dataloader.py\", line 941, in _shutdown_workers\n",
            "    w.join()\n",
            "  File \"/usr/lib/python3.7/multiprocessing/process.py\", line 138, in join\n",
            "    assert self._parent_pid == os.getpid(), 'can only join a child process'\n",
            "AssertionError: can only join a child process\n",
            "Exception ignored in: <function _MultiProcessingDataLoaderIter.__del__ at 0x7ff898506dd0>\n",
            "Traceback (most recent call last):\n",
            "  File \"/usr/local/lib/python3.7/dist-packages/torch/utils/data/dataloader.py\", line 961, in __del__\n",
            "    self._shutdown_workers()\n",
            "  File \"/usr/local/lib/python3.7/dist-packages/torch/utils/data/dataloader.py\", line 941, in _shutdown_workers\n",
            "    w.join()\n",
            "  File \"/usr/lib/python3.7/multiprocessing/process.py\", line 138, in join\n",
            "    assert self._parent_pid == os.getpid(), 'can only join a child process'\n",
            "AssertionError: can only join a child process\n",
            "Exception ignored in: <function _MultiProcessingDataLoaderIter.__del__ at 0x7ff898506dd0>\n",
            "Traceback (most recent call last):\n",
            "  File \"/usr/local/lib/python3.7/dist-packages/torch/utils/data/dataloader.py\", line 961, in __del__\n",
            "    self._shutdown_workers()\n",
            "  File \"/usr/local/lib/python3.7/dist-packages/torch/utils/data/dataloader.py\", line 941, in _shutdown_workers\n",
            "    w.join()\n",
            "  File \"/usr/lib/python3.7/multiprocessing/process.py\", line 138, in join\n",
            "    assert self._parent_pid == os.getpid(), 'can only join a child process'\n",
            "AssertionError: can only join a child process\n",
            "Exception ignored in: <function _MultiProcessingDataLoaderIter.__del__ at 0x7ff898506dd0>\n",
            "Traceback (most recent call last):\n",
            "  File \"/usr/local/lib/python3.7/dist-packages/torch/utils/data/dataloader.py\", line 961, in __del__\n",
            "    self._shutdown_workers()\n",
            "  File \"/usr/local/lib/python3.7/dist-packages/torch/utils/data/dataloader.py\", line 941, in _shutdown_workers\n",
            "    w.join()\n",
            "  File \"/usr/lib/python3.7/multiprocessing/process.py\", line 138, in join\n",
            "    assert self._parent_pid == os.getpid(), 'can only join a child process'\n",
            "AssertionError: can only join a child process\n",
            "Exception ignored in: <function _MultiProcessingDataLoaderIter.__del__ at 0x7ff898506dd0>\n",
            "Traceback (most recent call last):\n",
            "  File \"/usr/local/lib/python3.7/dist-packages/torch/utils/data/dataloader.py\", line 961, in __del__\n",
            "    self._shutdown_workers()\n",
            "  File \"/usr/local/lib/python3.7/dist-packages/torch/utils/data/dataloader.py\", line 941, in _shutdown_workers\n",
            "    w.join()\n",
            "  File \"/usr/lib/python3.7/multiprocessing/process.py\", line 138, in join\n",
            "    assert self._parent_pid == os.getpid(), 'can only join a child process'\n",
            "AssertionError: can only join a child process\n"
          ]
        },
        {
          "output_type": "display_data",
          "data": {
            "text/plain": [
              "<Figure size 432x288 with 1 Axes>"
            ],
            "image/png": "[encoded data removed]"
          },
          "metadata": {}
        },
        {
          "output_type": "stream",
          "name": "stdout",
          "text": [
            "Better model found at epoch 0 with valid_loss value: 0.08407188951969147.\n",
            "Better model found at epoch 1 with valid_loss value: 0.010453966446220875.\n",
            "Better model found at epoch 2 with valid_loss value: 0.0023483079858124256.\n",
            "Better model found at epoch 4 with valid_loss value: 0.0005817557103000581.\n",
            "Better model found at epoch 5 with valid_loss value: 0.00031756600947119296.\n",
            "Better model found at epoch 6 with valid_loss value: 7.877111784182489e-05.\n",
            "Better model found at epoch 7 with valid_loss value: 2.048238820862025e-05.\n",
            "Better model found at epoch 8 with valid_loss value: 7.202535925898701e-06.\n",
            "Better model found at epoch 9 with valid_loss value: 7.0417599999927916e-06.\n"
          ]
        }
      ]
    },
    {
      "cell_type": "markdown",
      "metadata": {
        "id": "uh3KXUQnLkZi"
      },
      "source": [
        "#Test accuracy of final model"
      ]
    },
    {
      "cell_type": "code",
      "metadata": {
        "colab": {
          "base_uri": "https://localhost:8080/",
          "height": 285
        },
        "id": "L4LlIUmfN8ai",
        "outputId": "73217da1-aacf-4272-a28f-3af6a2e4f5e6"
      },
      "source": [
        "from sklearn import metrics as met\n",
        "preds = learn.get_preds()\n",
        "# # Convert predictions classes to one hot vectors \n",
        "Y_pred_classes = np.argmax(np.array(preds[0]), axis=1)\n",
        "# # Convert validation observations to one hot vectors\n",
        "Y_true = np.array(preds[1]) \n",
        "# compute the confusion matrix\n",
        "confusion_mtx = confusion_matrix(np.array(preds[1]), np.argmax(np.array(preds[0]), axis=1)) \n",
        "# plot the confusion matrix\n",
        "print(confusion_mtx)\n",
        "target_names = ['normal', 'ball', 'inner','outer6']\n",
        "# Argmax function is deconverting from hot encoding to simple one\n",
        "print (classification_report(Y_pred_classes,Y_true, target_names = target_names))\n",
        "\n",
        "# cm = met.confusion_matrix(np.array(preds[1]), np.argmax(np.array(preds[0]), axis=1))\n",
        "# met.plot_confusion_matrix(cm, \n",
        "#                       normalize    = False)\n",
        "# met.plot_confusion_matrix(cm, \n",
        "#                       normalize    = True)\n"
      ],
      "execution_count": null,
      "outputs": [
        {
          "output_type": "display_data",
          "data": {
            "text/plain": [
              "<IPython.core.display.HTML object>"
            ],
            "text/html": [
              "\n",
              "<style>\n",
              "    /* Turns off some styling */\n",
              "    progress {\n",
              "        /* gets rid of default border in Firefox and Opera. */\n",
              "        border: none;\n",
              "        /* Needs to be in here for Safari polyfill so background images work as expected. */\n",
              "        background-size: auto;\n",
              "    }\n",
              "    .progress-bar-interrupted, .progress-bar-interrupted::-webkit-progress-bar {\n",
              "        background: #F44336;\n",
              "    }\n",
              "</style>\n"
            ]
          },
          "metadata": {}
        },
        {
          "output_type": "display_data",
          "data": {
            "text/plain": [
              "<IPython.core.display.HTML object>"
            ],
            "text/html": [
              ""
            ]
          },
          "metadata": {}
        },
        {
          "output_type": "stream",
          "name": "stdout",
          "text": [
            "[[ 674    0    0    0]\n",
            " [   0 2130    0    0]\n",
            " [   0    0 1909    0]\n",
            " [   0    0    0 2061]]\n",
            "              precision    recall  f1-score   support\n",
            "\n",
            "      normal       1.00      1.00      1.00       674\n",
            "        ball       1.00      1.00      1.00      2130\n",
            "       inner       1.00      1.00      1.00      1909\n",
            "      outer6       1.00      1.00      1.00      2061\n",
            "\n",
            "    accuracy                           1.00      6774\n",
            "   macro avg       1.00      1.00      1.00      6774\n",
            "weighted avg       1.00      1.00      1.00      6774\n",
            "\n"
          ]
        }
      ]
    },
    {
      "cell_type": "code",
      "metadata": {
        "colab": {
          "base_uri": "https://localhost:8080/",
          "height": 303
        },
        "id": "haB_qGSlYIE-",
        "outputId": "a1930ac5-ae78-452f-e888-960c6c638ed3"
      },
      "source": [
        "from sklearn import metrics as met\n",
        "preds = learn.get_preds(ds_type= DatasetType.Test)\n",
        "\n",
        "# # Converting predictions classes to one hot vectors\n",
        "Y_pred_classes = np.argmax(np.array(preds[0]), axis=1)\n",
        "print(Y_pred_classes)\n",
        "# # Converting validation observations to one hot vectors\n",
        "Y_true = np.argmax(T_L,axis=1)\n",
        "# computing the confusion matrix\n",
        "confusion_mtx = confusion_matrix(Y_true, np.argmax(np.array(preds[0]), axis=1)) \n",
        "print(confusion_mtx)\n",
        "target_names = ['normal', 'ball', 'inner','outer6']\n",
        "# Argmax function is deconverting from hot encoding to simple one\n",
        "print (classification_report(Y_pred_classes,Y_true, target_names = target_names))\n",
        "\n"
      ],
      "execution_count": null,
      "outputs": [
        {
          "output_type": "display_data",
          "data": {
            "text/plain": [
              "<IPython.core.display.HTML object>"
            ],
            "text/html": [
              "\n",
              "<style>\n",
              "    /* Turns off some styling */\n",
              "    progress {\n",
              "        /* gets rid of default border in Firefox and Opera. */\n",
              "        border: none;\n",
              "        /* Needs to be in here for Safari polyfill so background images work as expected. */\n",
              "        background-size: auto;\n",
              "    }\n",
              "    .progress-bar-interrupted, .progress-bar-interrupted::-webkit-progress-bar {\n",
              "        background: #F44336;\n",
              "    }\n",
              "</style>\n"
            ]
          },
          "metadata": {}
        },
        {
          "output_type": "display_data",
          "data": {
            "text/plain": [
              "<IPython.core.display.HTML object>"
            ],
            "text/html": [
              ""
            ]
          },
          "metadata": {}
        },
        {
          "output_type": "stream",
          "name": "stdout",
          "text": [
            "[0 0 0 0 ... 3 3 3 3]\n",
            "[[ 96   0   0   0]\n",
            " [  0 266   0   0]\n",
            " [  0   0 290   0]\n",
            " [  0   0   0 290]]\n",
            "              precision    recall  f1-score   support\n",
            "\n",
            "      normal       1.00      1.00      1.00        96\n",
            "        ball       1.00      1.00      1.00       266\n",
            "       inner       1.00      1.00      1.00       290\n",
            "      outer6       1.00      1.00      1.00       290\n",
            "\n",
            "    accuracy                           1.00       942\n",
            "   macro avg       1.00      1.00      1.00       942\n",
            "weighted avg       1.00      1.00      1.00       942\n",
            "\n"
          ]
        }
      ]
    },
    {
      "cell_type": "markdown",
      "metadata": {
        "id": "7AliFAcN7s0q"
      },
      "source": [
        "#Same model: VMD Performance"
      ]
    },
    {
      "cell_type": "code",
      "source": [
        "test = '/content/drive/MyDrive/Data_new/VMD_1'\n",
        "test_list=os.listdir(test)\n",
        "print(test_list)"
      ],
      "metadata": {
        "colab": {
          "base_uri": "https://localhost:8080/"
        },
        "id": "tXRlC1houfNo",
        "outputId": "09ff77f1-1f22-462c-cc45-dce8c368cd4f"
      },
      "execution_count": null,
      "outputs": [
        {
          "output_type": "stream",
          "name": "stdout",
          "text": [
            "['0', '1', '2', '3']\n"
          ]
        }
      ]
    },
    {
      "cell_type": "code",
      "source": [
        "test = '/content/drive/MyDrive/Data_new/VMD_1_test'\n",
        "test_list=os.listdir(test)\n",
        "for f in test_list:\n",
        "  f_name=os.path.join(test, f) \n",
        "  num = int(f.replace(\".png\",\"\"))\n",
        "  \n",
        "\n",
        "  if f==os.listdir(test)[0]:\n",
        "    if num<484: \n",
        "      l=np.ones((1,1))*0\n",
        "      continue\n",
        "    elif num<1815: \n",
        "      l = np.ones((1,1))*2\n",
        "      continue \n",
        "    elif num<3267: \n",
        "      l = np.ones((1,1))*1\n",
        "      continue \n",
        "    else: \n",
        "      l = np.ones((1,1))*3\n",
        "      continue \n",
        "  \n",
        "  if num<484: \n",
        "    m = np.ones((1,1))*0\n",
        "    l = np.concatenate((l, m))\n",
        "  elif num<1815: \n",
        "    m = np.ones((1,1))*2\n",
        "    l = np.concatenate((l, m))\n",
        "  elif num<3267: \n",
        "    m = np.ones((1,1))*1\n",
        "    l = np.concatenate((l, m))\n",
        "  else: \n",
        "    m = np.ones((1,1))*3\n",
        "    l = np.concatenate((l, m))\n",
        "  #print(num, m)\n",
        "print(l.shape)"
      ],
      "metadata": {
        "colab": {
          "base_uri": "https://localhost:8080/"
        },
        "id": "-s3xS2XgvF3A",
        "outputId": "b6c8ad5a-7906-4072-8cb2-7462b8c30f02"
      },
      "execution_count": null,
      "outputs": [
        {
          "output_type": "stream",
          "name": "stdout",
          "text": [
            "(942, 1)\n"
          ]
        }
      ]
    },
    {
      "cell_type": "code",
      "source": [
        "source = '/content/drive/MyDrive/Data_new/VMD_1'\n",
        "source_0=os.listdir(source+\"/0\")\n",
        "source_2=os.listdir(source+\"/2\")\n",
        "source_1=os.listdir(source+\"/1\")\n",
        "source_3=os.listdir(source+\"/3\")\n",
        "\n",
        "\n",
        "n_label = np.ones((len(source_0),1))*0\n",
        "i_label = np.ones((len(source_2),1))*2\n",
        "b_label = np.ones((len(source_1),1))*1\n",
        "o_label = np.ones((len(source_3),1))*3"
      ],
      "metadata": {
        "id": "IWk-TvS_xhX5"
      },
      "execution_count": null,
      "outputs": []
    },
    {
      "cell_type": "code",
      "source": [
        "label = np.concatenate((n_label, i_label, b_label, o_label))\n",
        "print(label.shape)\n",
        "\n",
        "label_encoder  = LabelBinarizer()\n",
        "U_L  = label_encoder.fit_transform(label)\n",
        "T_L = label_encoder.fit_transform(l)"
      ],
      "metadata": {
        "colab": {
          "base_uri": "https://localhost:8080/"
        },
        "id": "6JyPDqTIvdiG",
        "outputId": "29bc5032-5bd7-4cb0-9911-4c32be1c65a9"
      },
      "execution_count": null,
      "outputs": [
        {
          "output_type": "stream",
          "name": "stdout",
          "text": [
            "(3777, 1)\n"
          ]
        }
      ]
    },
    {
      "cell_type": "code",
      "source": [
        "tfms = get_transforms(do_flip=False, \n",
        "                      flip_vert=True,\n",
        "                      max_rotate= 20,\n",
        "                      max_zoom=.1,\n",
        "                      max_lighting=0.3, max_warp=0.2)\n",
        "\n",
        "np.random.seed(42)\n",
        "data_bigger = ImageDataBunch.from_folder('/content/drive/MyDrive/Data_new', train=\"VMD_1\", test='VMD_1_test', \n",
        "                                         valid_pct=0.2,\n",
        "                                         ds_tfms=tfms, #get_transforms(),\n",
        "                                         size=128, classes=['0', '1', '2', '3'],\n",
        "                                         num_workers=3).normalize(imagenet_stats)"
      ],
      "metadata": {
        "colab": {
          "base_uri": "https://localhost:8080/"
        },
        "id": "3Wd4BF5Rvjye",
        "outputId": "b81e985c-661f-4a64-e235-c90432f74405"
      },
      "execution_count": null,
      "outputs": [
        {
          "output_type": "stream",
          "name": "stderr",
          "text": [
            "/usr/local/lib/python3.7/dist-packages/fastai/data_block.py:541: UserWarning: You are labelling your items with CategoryList.\n",
            "Your train set contained the following unknown labels, the corresponding items have been discarded.\n",
            "Original_test, Hybrid_2_test, VMD_2_test, EMD3_test, hybrid(inner only)...\n",
            "  if getattr(ds, 'warn', False): warn(ds.warn)\n",
            "/usr/local/lib/python3.7/dist-packages/fastai/data_block.py:541: UserWarning: You are labelling your items with CategoryList.\n",
            "Your valid set contained the following unknown labels, the corresponding items have been discarded.\n",
            "Original_test, Hybrid_2_test, VMD_2_test, EMD3_test, hybrid(inner only)...\n",
            "  if getattr(ds, 'warn', False): warn(ds.warn)\n",
            "/usr/local/lib/python3.7/dist-packages/torch/utils/data/dataloader.py:490: UserWarning: This DataLoader will create 3 worker processes in total. Our suggested max number of worker in current system is 2, which is smaller than what this DataLoader is going to create. Please be aware that excessive worker creation might get DataLoader running slow or even freeze, lower the worker number to avoid potential slowness/freeze if necessary.\n",
            "  cpuset_checked))\n"
          ]
        }
      ]
    },
    {
      "cell_type": "code",
      "metadata": {
        "colab": {
          "base_uri": "https://localhost:8080/",
          "height": 1000
        },
        "id": "fiXG7Eqaowc5",
        "outputId": "91faf00a-8d8f-48ff-ebd4-0c98bb70a55a"
      },
      "source": [
        "learn = cnn_learner(data_bigger, models.densenet121, metrics=[error_rate, accuracy], wd=0.1)\n",
        "learn.unfreeze()\n",
        "learn.fit_one_cycle(10, max_lr=slice(5e-5, 5e-3),callbacks=[ShowGraph(learn),SaveModelCallback(learn)]) #50"
      ],
      "execution_count": null,
      "outputs": [
        {
          "output_type": "display_data",
          "data": {
            "text/plain": [
              "<IPython.core.display.HTML object>"
            ],
            "text/html": [
              "\n",
              "<style>\n",
              "    /* Turns off some styling */\n",
              "    progress {\n",
              "        /* gets rid of default border in Firefox and Opera. */\n",
              "        border: none;\n",
              "        /* Needs to be in here for Safari polyfill so background images work as expected. */\n",
              "        background-size: auto;\n",
              "    }\n",
              "    .progress-bar-interrupted, .progress-bar-interrupted::-webkit-progress-bar {\n",
              "        background: #F44336;\n",
              "    }\n",
              "</style>\n"
            ]
          },
          "metadata": {}
        },
        {
          "output_type": "display_data",
          "data": {
            "text/plain": [
              "<IPython.core.display.HTML object>"
            ],
            "text/html": [
              "<table border=\"1\" class=\"dataframe\">\n",
              "  <thead>\n",
              "    <tr style=\"text-align: left;\">\n",
              "      <th>epoch</th>\n",
              "      <th>train_loss</th>\n",
              "      <th>valid_loss</th>\n",
              "      <th>error_rate</th>\n",
              "      <th>accuracy</th>\n",
              "      <th>time</th>\n",
              "    </tr>\n",
              "  </thead>\n",
              "  <tbody>\n",
              "    <tr>\n",
              "      <td>0</td>\n",
              "      <td>0.195953</td>\n",
              "      <td>0.091102</td>\n",
              "      <td>0.034187</td>\n",
              "      <td>0.965813</td>\n",
              "      <td>08:02</td>\n",
              "    </tr>\n",
              "    <tr>\n",
              "      <td>1</td>\n",
              "      <td>0.100781</td>\n",
              "      <td>0.016649</td>\n",
              "      <td>0.005148</td>\n",
              "      <td>0.994852</td>\n",
              "      <td>05:22</td>\n",
              "    </tr>\n",
              "    <tr>\n",
              "      <td>2</td>\n",
              "      <td>0.049509</td>\n",
              "      <td>0.001629</td>\n",
              "      <td>0.000264</td>\n",
              "      <td>0.999736</td>\n",
              "      <td>05:24</td>\n",
              "    </tr>\n",
              "    <tr>\n",
              "      <td>3</td>\n",
              "      <td>0.036650</td>\n",
              "      <td>0.000835</td>\n",
              "      <td>0.000264</td>\n",
              "      <td>0.999736</td>\n",
              "      <td>05:24</td>\n",
              "    </tr>\n",
              "    <tr>\n",
              "      <td>4</td>\n",
              "      <td>0.012892</td>\n",
              "      <td>0.000300</td>\n",
              "      <td>0.000000</td>\n",
              "      <td>1.000000</td>\n",
              "      <td>05:21</td>\n",
              "    </tr>\n",
              "    <tr>\n",
              "      <td>5</td>\n",
              "      <td>0.007801</td>\n",
              "      <td>0.000113</td>\n",
              "      <td>0.000000</td>\n",
              "      <td>1.000000</td>\n",
              "      <td>05:19</td>\n",
              "    </tr>\n",
              "    <tr>\n",
              "      <td>6</td>\n",
              "      <td>0.008039</td>\n",
              "      <td>0.000058</td>\n",
              "      <td>0.000000</td>\n",
              "      <td>1.000000</td>\n",
              "      <td>05:18</td>\n",
              "    </tr>\n",
              "    <tr>\n",
              "      <td>7</td>\n",
              "      <td>0.001725</td>\n",
              "      <td>0.000016</td>\n",
              "      <td>0.000000</td>\n",
              "      <td>1.000000</td>\n",
              "      <td>05:21</td>\n",
              "    </tr>\n",
              "    <tr>\n",
              "      <td>8</td>\n",
              "      <td>0.000716</td>\n",
              "      <td>0.000003</td>\n",
              "      <td>0.000000</td>\n",
              "      <td>1.000000</td>\n",
              "      <td>05:19</td>\n",
              "    </tr>\n",
              "    <tr>\n",
              "      <td>9</td>\n",
              "      <td>0.001133</td>\n",
              "      <td>0.000002</td>\n",
              "      <td>0.000000</td>\n",
              "      <td>1.000000</td>\n",
              "      <td>05:20</td>\n",
              "    </tr>\n",
              "  </tbody>\n",
              "</table>"
            ]
          },
          "metadata": {}
        },
        {
          "output_type": "stream",
          "name": "stderr",
          "text": [
            "/usr/local/lib/python3.7/dist-packages/torch/utils/data/dataloader.py:490: UserWarning: This DataLoader will create 3 worker processes in total. Our suggested max number of worker in current system is 2, which is smaller than what this DataLoader is going to create. Please be aware that excessive worker creation might get DataLoader running slow or even freeze, lower the worker number to avoid potential slowness/freeze if necessary.\n",
            "  cpuset_checked))\n"
          ]
        },
        {
          "output_type": "display_data",
          "data": {
            "text/plain": [
              "<Figure size 432x288 with 1 Axes>"
            ],
            "image/png": "[encoded data removed]"
          },
          "metadata": {}
        },
        {
          "output_type": "stream",
          "name": "stdout",
          "text": [
            "Better model found at epoch 0 with valid_loss value: 0.09110242128372192.\n"
          ]
        },
        {
          "output_type": "stream",
          "name": "stderr",
          "text": [
            "/usr/local/lib/python3.7/dist-packages/torch/utils/data/dataloader.py:490: UserWarning: This DataLoader will create 3 worker processes in total. Our suggested max number of worker in current system is 2, which is smaller than what this DataLoader is going to create. Please be aware that excessive worker creation might get DataLoader running slow or even freeze, lower the worker number to avoid potential slowness/freeze if necessary.\n",
            "  cpuset_checked))\n"
          ]
        },
        {
          "output_type": "stream",
          "name": "stdout",
          "text": [
            "Better model found at epoch 1 with valid_loss value: 0.01664932258427143.\n"
          ]
        },
        {
          "output_type": "stream",
          "name": "stderr",
          "text": [
            "/usr/local/lib/python3.7/dist-packages/torch/utils/data/dataloader.py:490: UserWarning: This DataLoader will create 3 worker processes in total. Our suggested max number of worker in current system is 2, which is smaller than what this DataLoader is going to create. Please be aware that excessive worker creation might get DataLoader running slow or even freeze, lower the worker number to avoid potential slowness/freeze if necessary.\n",
            "  cpuset_checked))\n"
          ]
        },
        {
          "output_type": "stream",
          "name": "stdout",
          "text": [
            "Better model found at epoch 2 with valid_loss value: 0.001629282720386982.\n"
          ]
        },
        {
          "output_type": "stream",
          "name": "stderr",
          "text": [
            "/usr/local/lib/python3.7/dist-packages/torch/utils/data/dataloader.py:490: UserWarning: This DataLoader will create 3 worker processes in total. Our suggested max number of worker in current system is 2, which is smaller than what this DataLoader is going to create. Please be aware that excessive worker creation might get DataLoader running slow or even freeze, lower the worker number to avoid potential slowness/freeze if necessary.\n",
            "  cpuset_checked))\n"
          ]
        },
        {
          "output_type": "stream",
          "name": "stdout",
          "text": [
            "Better model found at epoch 3 with valid_loss value: 0.0008347640978172421.\n"
          ]
        },
        {
          "output_type": "stream",
          "name": "stderr",
          "text": [
            "/usr/local/lib/python3.7/dist-packages/torch/utils/data/dataloader.py:490: UserWarning: This DataLoader will create 3 worker processes in total. Our suggested max number of worker in current system is 2, which is smaller than what this DataLoader is going to create. Please be aware that excessive worker creation might get DataLoader running slow or even freeze, lower the worker number to avoid potential slowness/freeze if necessary.\n",
            "  cpuset_checked))\n"
          ]
        },
        {
          "output_type": "stream",
          "name": "stdout",
          "text": [
            "Better model found at epoch 4 with valid_loss value: 0.0003004410827998072.\n"
          ]
        },
        {
          "output_type": "stream",
          "name": "stderr",
          "text": [
            "/usr/local/lib/python3.7/dist-packages/torch/utils/data/dataloader.py:490: UserWarning: This DataLoader will create 3 worker processes in total. Our suggested max number of worker in current system is 2, which is smaller than what this DataLoader is going to create. Please be aware that excessive worker creation might get DataLoader running slow or even freeze, lower the worker number to avoid potential slowness/freeze if necessary.\n",
            "  cpuset_checked))\n"
          ]
        },
        {
          "output_type": "stream",
          "name": "stdout",
          "text": [
            "Better model found at epoch 5 with valid_loss value: 0.00011309913679724559.\n"
          ]
        },
        {
          "output_type": "stream",
          "name": "stderr",
          "text": [
            "/usr/local/lib/python3.7/dist-packages/torch/utils/data/dataloader.py:490: UserWarning: This DataLoader will create 3 worker processes in total. Our suggested max number of worker in current system is 2, which is smaller than what this DataLoader is going to create. Please be aware that excessive worker creation might get DataLoader running slow or even freeze, lower the worker number to avoid potential slowness/freeze if necessary.\n",
            "  cpuset_checked))\n"
          ]
        },
        {
          "output_type": "stream",
          "name": "stdout",
          "text": [
            "Better model found at epoch 6 with valid_loss value: 5.786885958514176e-05.\n"
          ]
        },
        {
          "output_type": "stream",
          "name": "stderr",
          "text": [
            "/usr/local/lib/python3.7/dist-packages/torch/utils/data/dataloader.py:490: UserWarning: This DataLoader will create 3 worker processes in total. Our suggested max number of worker in current system is 2, which is smaller than what this DataLoader is going to create. Please be aware that excessive worker creation might get DataLoader running slow or even freeze, lower the worker number to avoid potential slowness/freeze if necessary.\n",
            "  cpuset_checked))\n"
          ]
        },
        {
          "output_type": "stream",
          "name": "stdout",
          "text": [
            "Better model found at epoch 7 with valid_loss value: 1.5680125216022134e-05.\n"
          ]
        },
        {
          "output_type": "stream",
          "name": "stderr",
          "text": [
            "/usr/local/lib/python3.7/dist-packages/torch/utils/data/dataloader.py:490: UserWarning: This DataLoader will create 3 worker processes in total. Our suggested max number of worker in current system is 2, which is smaller than what this DataLoader is going to create. Please be aware that excessive worker creation might get DataLoader running slow or even freeze, lower the worker number to avoid potential slowness/freeze if necessary.\n",
            "  cpuset_checked))\n"
          ]
        },
        {
          "output_type": "stream",
          "name": "stdout",
          "text": [
            "Better model found at epoch 8 with valid_loss value: 3.1779459277458955e-06.\n"
          ]
        },
        {
          "output_type": "stream",
          "name": "stderr",
          "text": [
            "/usr/local/lib/python3.7/dist-packages/torch/utils/data/dataloader.py:490: UserWarning: This DataLoader will create 3 worker processes in total. Our suggested max number of worker in current system is 2, which is smaller than what this DataLoader is going to create. Please be aware that excessive worker creation might get DataLoader running slow or even freeze, lower the worker number to avoid potential slowness/freeze if necessary.\n",
            "  cpuset_checked))\n"
          ]
        },
        {
          "output_type": "stream",
          "name": "stdout",
          "text": [
            "Better model found at epoch 9 with valid_loss value: 1.6450723023808678e-06.\n"
          ]
        }
      ]
    },
    {
      "cell_type": "markdown",
      "source": [
        "Test results"
      ],
      "metadata": {
        "id": "J6OMDch0wFII"
      }
    },
    {
      "cell_type": "code",
      "metadata": {
        "id": "hIScPKPo72bd",
        "colab": {
          "base_uri": "https://localhost:8080/",
          "height": 358
        },
        "outputId": "938d6138-0d94-4a3e-f98f-87db6486b809"
      },
      "source": [
        "preds = learn.get_preds(ds_type= DatasetType.Test)\n",
        "\n",
        "# # Convert predictions classes to one hot vectors\n",
        "Y_pred_classes = np.argmax(np.array(preds[0]), axis=1)\n",
        "print(Y_pred_classes)\n",
        "# # Convert validation observations to one hot vectors\n",
        "Y_true = np.argmax(T_L,axis=1)\n",
        "# compute the confusion matrix\n",
        "confusion_mtx = confusion_matrix(Y_true, np.argmax(np.array(preds[0]), axis=1)) \n",
        "# plot the confusion matrix\n",
        "print(confusion_mtx)\n",
        "target_names = ['normal', 'ball', 'inner','outer6']\n",
        "# Argmax function is deconverting from hot encoding to simple one\n",
        "print (classification_report(Y_pred_classes,Y_true, target_names = target_names))"
      ],
      "execution_count": null,
      "outputs": [
        {
          "output_type": "display_data",
          "data": {
            "text/plain": [
              "<IPython.core.display.HTML object>"
            ],
            "text/html": [
              "\n",
              "<style>\n",
              "    /* Turns off some styling */\n",
              "    progress {\n",
              "        /* gets rid of default border in Firefox and Opera. */\n",
              "        border: none;\n",
              "        /* Needs to be in here for Safari polyfill so background images work as expected. */\n",
              "        background-size: auto;\n",
              "    }\n",
              "    .progress-bar-interrupted, .progress-bar-interrupted::-webkit-progress-bar {\n",
              "        background: #F44336;\n",
              "    }\n",
              "</style>\n"
            ]
          },
          "metadata": {}
        },
        {
          "output_type": "display_data",
          "data": {
            "text/plain": [
              "<IPython.core.display.HTML object>"
            ],
            "text/html": [
              ""
            ]
          },
          "metadata": {}
        },
        {
          "output_type": "stream",
          "name": "stderr",
          "text": [
            "/usr/local/lib/python3.7/dist-packages/torch/utils/data/dataloader.py:490: UserWarning: This DataLoader will create 3 worker processes in total. Our suggested max number of worker in current system is 2, which is smaller than what this DataLoader is going to create. Please be aware that excessive worker creation might get DataLoader running slow or even freeze, lower the worker number to avoid potential slowness/freeze if necessary.\n",
            "  cpuset_checked))\n"
          ]
        },
        {
          "output_type": "stream",
          "name": "stdout",
          "text": [
            "[0 0 0 0 ... 3 3 3 3]\n",
            "[[ 96   0   0   0]\n",
            " [ 28 214  23   1]\n",
            " [  0   4 275  11]\n",
            " [ 20  11  33 226]]\n",
            "              precision    recall  f1-score   support\n",
            "\n",
            "      normal       1.00      0.67      0.80       144\n",
            "        ball       0.80      0.93      0.86       229\n",
            "       inner       0.95      0.83      0.89       331\n",
            "      outer6       0.78      0.95      0.86       238\n",
            "\n",
            "    accuracy                           0.86       942\n",
            "   macro avg       0.88      0.85      0.85       942\n",
            "weighted avg       0.88      0.86      0.86       942\n",
            "\n"
          ]
        }
      ]
    },
    {
      "cell_type": "code",
      "source": [
        ""
      ],
      "metadata": {
        "id": "ntR1H6mOQ0-Y"
      },
      "execution_count": null,
      "outputs": []
    }
  ]
}